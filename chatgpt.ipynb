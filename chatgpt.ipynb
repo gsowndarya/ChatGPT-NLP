{
  "cells": [
    {
      "cell_type": "markdown",
      "metadata": {
        "id": "view-in-github",
        "colab_type": "text"
      },
      "source": [
        "<a href=\"https://colab.research.google.com/github/gsowndarya/ChatGPT-NLP/blob/main/chatgpt.ipynb\" target=\"_parent\"><img src=\"https://colab.research.google.com/assets/colab-badge.svg\" alt=\"Open In Colab\"/></a>"
      ]
    },
    {
      "cell_type": "markdown",
      "metadata": {
        "id": "Y6F7Qq7_plZF"
      },
      "source": [
        "**Libraries**"
      ]
    },
    {
      "cell_type": "code",
      "execution_count": null,
      "metadata": {
        "colab": {
          "base_uri": "https://localhost:8080/"
        },
        "id": "KzoZTXdfeBk5",
        "outputId": "696c3cf0-8345-460a-b350-01e29a4832a2"
      },
      "outputs": [
        {
          "output_type": "stream",
          "name": "stdout",
          "text": [
            "Collecting contractions==0.1.73\n",
            "  Downloading contractions-0.1.73-py2.py3-none-any.whl.metadata (1.2 kB)\n",
            "Collecting textsearch>=0.0.21 (from contractions==0.1.73)\n",
            "  Downloading textsearch-0.0.24-py2.py3-none-any.whl.metadata (1.2 kB)\n",
            "Collecting anyascii (from textsearch>=0.0.21->contractions==0.1.73)\n",
            "  Downloading anyascii-0.3.2-py3-none-any.whl.metadata (1.5 kB)\n",
            "Collecting pyahocorasick (from textsearch>=0.0.21->contractions==0.1.73)\n",
            "  Downloading pyahocorasick-2.1.0-cp311-cp311-manylinux_2_17_x86_64.manylinux2014_x86_64.whl.metadata (13 kB)\n",
            "Downloading contractions-0.1.73-py2.py3-none-any.whl (8.7 kB)\n",
            "Downloading textsearch-0.0.24-py2.py3-none-any.whl (7.6 kB)\n",
            "Downloading anyascii-0.3.2-py3-none-any.whl (289 kB)\n",
            "\u001b[2K   \u001b[90m━━━━━━━━━━━━━━━━━━━━━━━━━━━━━━━━━━━━━━━━\u001b[0m \u001b[32m289.9/289.9 kB\u001b[0m \u001b[31m4.3 MB/s\u001b[0m eta \u001b[36m0:00:00\u001b[0m\n",
            "\u001b[?25hDownloading pyahocorasick-2.1.0-cp311-cp311-manylinux_2_17_x86_64.manylinux2014_x86_64.whl (118 kB)\n",
            "\u001b[2K   \u001b[90m━━━━━━━━━━━━━━━━━━━━━━━━━━━━━━━━━━━━━━━━\u001b[0m \u001b[32m118.3/118.3 kB\u001b[0m \u001b[31m6.9 MB/s\u001b[0m eta \u001b[36m0:00:00\u001b[0m\n",
            "\u001b[?25hInstalling collected packages: pyahocorasick, anyascii, textsearch, contractions\n",
            "Successfully installed anyascii-0.3.2 contractions-0.1.73 pyahocorasick-2.1.0 textsearch-0.0.24\n"
          ]
        }
      ],
      "source": [
        "pip install contractions==0.1.73"
      ]
    },
    {
      "cell_type": "code",
      "execution_count": null,
      "metadata": {
        "colab": {
          "base_uri": "https://localhost:8080/"
        },
        "id": "zXtxZFxLfhGs",
        "outputId": "47fac84d-78b0-4d57-cd45-41c3b41ffe9d"
      },
      "outputs": [
        {
          "output_type": "stream",
          "name": "stdout",
          "text": [
            "Collecting vaderSentiment==3.3.2\n",
            "  Downloading vaderSentiment-3.3.2-py2.py3-none-any.whl.metadata (572 bytes)\n",
            "Requirement already satisfied: requests in /usr/local/lib/python3.11/dist-packages (from vaderSentiment==3.3.2) (2.32.3)\n",
            "Requirement already satisfied: charset-normalizer<4,>=2 in /usr/local/lib/python3.11/dist-packages (from requests->vaderSentiment==3.3.2) (3.4.2)\n",
            "Requirement already satisfied: idna<4,>=2.5 in /usr/local/lib/python3.11/dist-packages (from requests->vaderSentiment==3.3.2) (3.10)\n",
            "Requirement already satisfied: urllib3<3,>=1.21.1 in /usr/local/lib/python3.11/dist-packages (from requests->vaderSentiment==3.3.2) (2.4.0)\n",
            "Requirement already satisfied: certifi>=2017.4.17 in /usr/local/lib/python3.11/dist-packages (from requests->vaderSentiment==3.3.2) (2025.4.26)\n",
            "Downloading vaderSentiment-3.3.2-py2.py3-none-any.whl (125 kB)\n",
            "\u001b[2K   \u001b[90m━━━━━━━━━━━━━━━━━━━━━━━━━━━━━━━━━━━━━━━━\u001b[0m \u001b[32m126.0/126.0 kB\u001b[0m \u001b[31m2.7 MB/s\u001b[0m eta \u001b[36m0:00:00\u001b[0m\n",
            "\u001b[?25hInstalling collected packages: vaderSentiment\n",
            "Successfully installed vaderSentiment-3.3.2\n"
          ]
        }
      ],
      "source": [
        "!pip install vaderSentiment==3.3.2"
      ]
    },
    {
      "cell_type": "code",
      "execution_count": null,
      "metadata": {
        "colab": {
          "base_uri": "https://localhost:8080/"
        },
        "id": "mwd8AibP3j-d",
        "outputId": "168f7795-50c7-458a-af36-790025283f24"
      },
      "outputs": [
        {
          "output_type": "stream",
          "name": "stdout",
          "text": [
            "Found existing installation: numpy 2.0.2\n",
            "Uninstalling numpy-2.0.2:\n",
            "  Successfully uninstalled numpy-2.0.2\n",
            "Found existing installation: scipy 1.15.3\n",
            "Uninstalling scipy-1.15.3:\n",
            "  Successfully uninstalled scipy-1.15.3\n",
            "\u001b[33mWARNING: Skipping gensim as it is not installed.\u001b[0m\u001b[33m\n",
            "\u001b[0mFound existing installation: tensorflow 2.18.0\n",
            "Uninstalling tensorflow-2.18.0:\n",
            "  Successfully uninstalled tensorflow-2.18.0\n"
          ]
        }
      ],
      "source": [
        "!pip uninstall -y numpy scipy gensim tensorflow"
      ]
    },
    {
      "cell_type": "code",
      "execution_count": null,
      "metadata": {
        "colab": {
          "base_uri": "https://localhost:8080/",
          "height": 1000
        },
        "id": "57L29UdJ3kJM",
        "outputId": "1620db03-7c7a-4386-e117-2c25bfa5f672"
      },
      "outputs": [
        {
          "output_type": "stream",
          "name": "stdout",
          "text": [
            "Collecting numpy==1.23.5\n",
            "  Downloading numpy-1.23.5-cp311-cp311-manylinux_2_17_x86_64.manylinux2014_x86_64.whl.metadata (2.3 kB)\n",
            "Collecting scipy==1.10.1\n",
            "  Downloading scipy-1.10.1-cp311-cp311-manylinux_2_17_x86_64.manylinux2014_x86_64.whl.metadata (58 kB)\n",
            "\u001b[2K     \u001b[90m━━━━━━━━━━━━━━━━━━━━━━━━━━━━━━━━━━━━━━━━\u001b[0m \u001b[32m58.9/58.9 kB\u001b[0m \u001b[31m2.3 MB/s\u001b[0m eta \u001b[36m0:00:00\u001b[0m\n",
            "\u001b[?25hCollecting gensim==4.3.1\n",
            "  Downloading gensim-4.3.1-cp311-cp311-manylinux_2_17_x86_64.manylinux2014_x86_64.whl.metadata (8.4 kB)\n",
            "Collecting tensorflow==2.12.0\n",
            "  Downloading tensorflow-2.12.0-cp311-cp311-manylinux_2_17_x86_64.manylinux2014_x86_64.whl.metadata (3.4 kB)\n",
            "Requirement already satisfied: smart-open>=1.8.1 in /usr/local/lib/python3.11/dist-packages (from gensim==4.3.1) (7.1.0)\n",
            "Requirement already satisfied: absl-py>=1.0.0 in /usr/local/lib/python3.11/dist-packages (from tensorflow==2.12.0) (1.4.0)\n",
            "Requirement already satisfied: astunparse>=1.6.0 in /usr/local/lib/python3.11/dist-packages (from tensorflow==2.12.0) (1.6.3)\n",
            "Requirement already satisfied: flatbuffers>=2.0 in /usr/local/lib/python3.11/dist-packages (from tensorflow==2.12.0) (25.2.10)\n",
            "Collecting gast<=0.4.0,>=0.2.1 (from tensorflow==2.12.0)\n",
            "  Downloading gast-0.4.0-py3-none-any.whl.metadata (1.1 kB)\n",
            "Requirement already satisfied: google-pasta>=0.1.1 in /usr/local/lib/python3.11/dist-packages (from tensorflow==2.12.0) (0.2.0)\n",
            "Requirement already satisfied: grpcio<2.0,>=1.24.3 in /usr/local/lib/python3.11/dist-packages (from tensorflow==2.12.0) (1.71.0)\n",
            "Requirement already satisfied: h5py>=2.9.0 in /usr/local/lib/python3.11/dist-packages (from tensorflow==2.12.0) (3.13.0)\n",
            "Requirement already satisfied: jax>=0.3.15 in /usr/local/lib/python3.11/dist-packages (from tensorflow==2.12.0) (0.5.2)\n",
            "Collecting keras<2.13,>=2.12.0 (from tensorflow==2.12.0)\n",
            "  Downloading keras-2.12.0-py2.py3-none-any.whl.metadata (1.4 kB)\n",
            "Requirement already satisfied: libclang>=13.0.0 in /usr/local/lib/python3.11/dist-packages (from tensorflow==2.12.0) (18.1.1)\n",
            "Requirement already satisfied: opt-einsum>=2.3.2 in /usr/local/lib/python3.11/dist-packages (from tensorflow==2.12.0) (3.4.0)\n",
            "Requirement already satisfied: packaging in /usr/local/lib/python3.11/dist-packages (from tensorflow==2.12.0) (24.2)\n",
            "Collecting protobuf!=4.21.0,!=4.21.1,!=4.21.2,!=4.21.3,!=4.21.4,!=4.21.5,<5.0.0dev,>=3.20.3 (from tensorflow==2.12.0)\n",
            "  Downloading protobuf-4.25.7-cp37-abi3-manylinux2014_x86_64.whl.metadata (541 bytes)\n",
            "Requirement already satisfied: setuptools in /usr/local/lib/python3.11/dist-packages (from tensorflow==2.12.0) (75.2.0)\n",
            "Requirement already satisfied: six>=1.12.0 in /usr/local/lib/python3.11/dist-packages (from tensorflow==2.12.0) (1.17.0)\n",
            "Collecting tensorboard<2.13,>=2.12 (from tensorflow==2.12.0)\n",
            "  Downloading tensorboard-2.12.3-py3-none-any.whl.metadata (1.8 kB)\n",
            "Collecting tensorflow-estimator<2.13,>=2.12.0 (from tensorflow==2.12.0)\n",
            "  Downloading tensorflow_estimator-2.12.0-py2.py3-none-any.whl.metadata (1.3 kB)\n",
            "Requirement already satisfied: termcolor>=1.1.0 in /usr/local/lib/python3.11/dist-packages (from tensorflow==2.12.0) (3.1.0)\n",
            "Requirement already satisfied: typing-extensions>=3.6.6 in /usr/local/lib/python3.11/dist-packages (from tensorflow==2.12.0) (4.13.2)\n",
            "Collecting wrapt<1.15,>=1.11.0 (from tensorflow==2.12.0)\n",
            "  Downloading wrapt-1.14.1-cp311-cp311-manylinux_2_5_x86_64.manylinux1_x86_64.manylinux_2_17_x86_64.manylinux2014_x86_64.whl.metadata (6.7 kB)\n",
            "Requirement already satisfied: tensorflow-io-gcs-filesystem>=0.23.1 in /usr/local/lib/python3.11/dist-packages (from tensorflow==2.12.0) (0.37.1)\n",
            "Requirement already satisfied: wheel<1.0,>=0.23.0 in /usr/local/lib/python3.11/dist-packages (from astunparse>=1.6.0->tensorflow==2.12.0) (0.45.1)\n",
            "Requirement already satisfied: jaxlib<=0.5.2,>=0.5.1 in /usr/local/lib/python3.11/dist-packages (from jax>=0.3.15->tensorflow==2.12.0) (0.5.1)\n",
            "Requirement already satisfied: ml_dtypes>=0.4.0 in /usr/local/lib/python3.11/dist-packages (from jax>=0.3.15->tensorflow==2.12.0) (0.4.1)\n",
            "INFO: pip is looking at multiple versions of jax to determine which version is compatible with other requirements. This could take a while.\n",
            "Collecting jax>=0.3.15 (from tensorflow==2.12.0)\n",
            "  Downloading jax-0.6.0-py3-none-any.whl.metadata (22 kB)\n",
            "Collecting jaxlib<=0.6.0,>=0.6.0 (from jax>=0.3.15->tensorflow==2.12.0)\n",
            "  Downloading jaxlib-0.6.0-cp311-cp311-manylinux2014_x86_64.whl.metadata (1.2 kB)\n",
            "Collecting ml_dtypes>=0.5.0 (from jax>=0.3.15->tensorflow==2.12.0)\n",
            "  Downloading ml_dtypes-0.5.1-cp311-cp311-manylinux_2_17_x86_64.manylinux2014_x86_64.whl.metadata (21 kB)\n",
            "Collecting jax>=0.3.15 (from tensorflow==2.12.0)\n",
            "  Downloading jax-0.5.3-py3-none-any.whl.metadata (22 kB)\n",
            "Collecting jaxlib<=0.5.3,>=0.5.3 (from jax>=0.3.15->tensorflow==2.12.0)\n",
            "  Downloading jaxlib-0.5.3-cp311-cp311-manylinux2014_x86_64.whl.metadata (1.2 kB)\n",
            "Collecting jax>=0.3.15 (from tensorflow==2.12.0)\n",
            "  Downloading jax-0.5.1-py3-none-any.whl.metadata (22 kB)\n",
            "  Downloading jax-0.5.0-py3-none-any.whl.metadata (22 kB)\n",
            "Collecting jaxlib<=0.5.0,>=0.5.0 (from jax>=0.3.15->tensorflow==2.12.0)\n",
            "  Downloading jaxlib-0.5.0-cp311-cp311-manylinux2014_x86_64.whl.metadata (978 bytes)\n",
            "Collecting jax>=0.3.15 (from tensorflow==2.12.0)\n",
            "  Downloading jax-0.4.38-py3-none-any.whl.metadata (22 kB)\n",
            "Collecting jaxlib<=0.4.38,>=0.4.38 (from jax>=0.3.15->tensorflow==2.12.0)\n",
            "  Downloading jaxlib-0.4.38-cp311-cp311-manylinux2014_x86_64.whl.metadata (1.0 kB)\n",
            "Collecting jax>=0.3.15 (from tensorflow==2.12.0)\n",
            "  Downloading jax-0.4.37-py3-none-any.whl.metadata (22 kB)\n",
            "Collecting jaxlib<=0.4.37,>=0.4.36 (from jax>=0.3.15->tensorflow==2.12.0)\n",
            "  Downloading jaxlib-0.4.36-cp311-cp311-manylinux2014_x86_64.whl.metadata (1.0 kB)\n",
            "Collecting jax>=0.3.15 (from tensorflow==2.12.0)\n",
            "  Downloading jax-0.4.36-py3-none-any.whl.metadata (22 kB)\n",
            "INFO: pip is still looking at multiple versions of jax to determine which version is compatible with other requirements. This could take a while.\n",
            "  Downloading jax-0.4.35-py3-none-any.whl.metadata (22 kB)\n",
            "Collecting jaxlib<=0.4.35,>=0.4.34 (from jax>=0.3.15->tensorflow==2.12.0)\n",
            "  Downloading jaxlib-0.4.35-cp311-cp311-manylinux2014_x86_64.whl.metadata (983 bytes)\n",
            "Collecting jax>=0.3.15 (from tensorflow==2.12.0)\n",
            "  Downloading jax-0.4.34-py3-none-any.whl.metadata (22 kB)\n",
            "Collecting jaxlib<=0.4.34,>=0.4.34 (from jax>=0.3.15->tensorflow==2.12.0)\n",
            "  Downloading jaxlib-0.4.34-cp311-cp311-manylinux2014_x86_64.whl.metadata (983 bytes)\n",
            "Collecting jax>=0.3.15 (from tensorflow==2.12.0)\n",
            "  Downloading jax-0.4.33-py3-none-any.whl.metadata (22 kB)\n",
            "Collecting jaxlib<=0.4.33,>=0.4.33 (from jax>=0.3.15->tensorflow==2.12.0)\n",
            "  Downloading jaxlib-0.4.33-cp311-cp311-manylinux2014_x86_64.whl.metadata (983 bytes)\n",
            "Collecting jax>=0.3.15 (from tensorflow==2.12.0)\n",
            "  Downloading jax-0.4.31-py3-none-any.whl.metadata (22 kB)\n",
            "Collecting jaxlib<=0.4.31,>=0.4.30 (from jax>=0.3.15->tensorflow==2.12.0)\n",
            "  Downloading jaxlib-0.4.31-cp311-cp311-manylinux2014_x86_64.whl.metadata (983 bytes)\n",
            "Collecting jax>=0.3.15 (from tensorflow==2.12.0)\n",
            "  Downloading jax-0.4.30-py3-none-any.whl.metadata (22 kB)\n",
            "Collecting jaxlib<=0.4.30,>=0.4.27 (from jax>=0.3.15->tensorflow==2.12.0)\n",
            "  Downloading jaxlib-0.4.30-cp311-cp311-manylinux2014_x86_64.whl.metadata (1.0 kB)\n",
            "Requirement already satisfied: google-auth<3,>=1.6.3 in /usr/local/lib/python3.11/dist-packages (from tensorboard<2.13,>=2.12->tensorflow==2.12.0) (2.38.0)\n",
            "Collecting google-auth-oauthlib<1.1,>=0.5 (from tensorboard<2.13,>=2.12->tensorflow==2.12.0)\n",
            "  Downloading google_auth_oauthlib-1.0.0-py2.py3-none-any.whl.metadata (2.7 kB)\n",
            "Requirement already satisfied: markdown>=2.6.8 in /usr/local/lib/python3.11/dist-packages (from tensorboard<2.13,>=2.12->tensorflow==2.12.0) (3.8)\n",
            "Requirement already satisfied: requests<3,>=2.21.0 in /usr/local/lib/python3.11/dist-packages (from tensorboard<2.13,>=2.12->tensorflow==2.12.0) (2.32.3)\n",
            "Requirement already satisfied: tensorboard-data-server<0.8.0,>=0.7.0 in /usr/local/lib/python3.11/dist-packages (from tensorboard<2.13,>=2.12->tensorflow==2.12.0) (0.7.2)\n",
            "Requirement already satisfied: werkzeug>=1.0.1 in /usr/local/lib/python3.11/dist-packages (from tensorboard<2.13,>=2.12->tensorflow==2.12.0) (3.1.3)\n",
            "Requirement already satisfied: cachetools<6.0,>=2.0.0 in /usr/local/lib/python3.11/dist-packages (from google-auth<3,>=1.6.3->tensorboard<2.13,>=2.12->tensorflow==2.12.0) (5.5.2)\n",
            "Requirement already satisfied: pyasn1-modules>=0.2.1 in /usr/local/lib/python3.11/dist-packages (from google-auth<3,>=1.6.3->tensorboard<2.13,>=2.12->tensorflow==2.12.0) (0.4.2)\n",
            "Requirement already satisfied: rsa<5,>=3.1.4 in /usr/local/lib/python3.11/dist-packages (from google-auth<3,>=1.6.3->tensorboard<2.13,>=2.12->tensorflow==2.12.0) (4.9.1)\n",
            "Requirement already satisfied: requests-oauthlib>=0.7.0 in /usr/local/lib/python3.11/dist-packages (from google-auth-oauthlib<1.1,>=0.5->tensorboard<2.13,>=2.12->tensorflow==2.12.0) (2.0.0)\n",
            "Requirement already satisfied: charset-normalizer<4,>=2 in /usr/local/lib/python3.11/dist-packages (from requests<3,>=2.21.0->tensorboard<2.13,>=2.12->tensorflow==2.12.0) (3.4.2)\n",
            "Requirement already satisfied: idna<4,>=2.5 in /usr/local/lib/python3.11/dist-packages (from requests<3,>=2.21.0->tensorboard<2.13,>=2.12->tensorflow==2.12.0) (3.10)\n",
            "Requirement already satisfied: urllib3<3,>=1.21.1 in /usr/local/lib/python3.11/dist-packages (from requests<3,>=2.21.0->tensorboard<2.13,>=2.12->tensorflow==2.12.0) (2.4.0)\n",
            "Requirement already satisfied: certifi>=2017.4.17 in /usr/local/lib/python3.11/dist-packages (from requests<3,>=2.21.0->tensorboard<2.13,>=2.12->tensorflow==2.12.0) (2025.4.26)\n",
            "Requirement already satisfied: MarkupSafe>=2.1.1 in /usr/local/lib/python3.11/dist-packages (from werkzeug>=1.0.1->tensorboard<2.13,>=2.12->tensorflow==2.12.0) (3.0.2)\n",
            "Requirement already satisfied: pyasn1<0.7.0,>=0.6.1 in /usr/local/lib/python3.11/dist-packages (from pyasn1-modules>=0.2.1->google-auth<3,>=1.6.3->tensorboard<2.13,>=2.12->tensorflow==2.12.0) (0.6.1)\n",
            "Requirement already satisfied: oauthlib>=3.0.0 in /usr/local/lib/python3.11/dist-packages (from requests-oauthlib>=0.7.0->google-auth-oauthlib<1.1,>=0.5->tensorboard<2.13,>=2.12->tensorflow==2.12.0) (3.2.2)\n",
            "Downloading numpy-1.23.5-cp311-cp311-manylinux_2_17_x86_64.manylinux2014_x86_64.whl (17.1 MB)\n",
            "\u001b[2K   \u001b[90m━━━━━━━━━━━━━━━━━━━━━━━━━━━━━━━━━━━━━━━━\u001b[0m \u001b[32m17.1/17.1 MB\u001b[0m \u001b[31m90.8 MB/s\u001b[0m eta \u001b[36m0:00:00\u001b[0m\n",
            "\u001b[?25hDownloading scipy-1.10.1-cp311-cp311-manylinux_2_17_x86_64.manylinux2014_x86_64.whl (34.1 MB)\n",
            "\u001b[2K   \u001b[90m━━━━━━━━━━━━━━━━━━━━━━━━━━━━━━━━━━━━━━━━\u001b[0m \u001b[32m34.1/34.1 MB\u001b[0m \u001b[31m25.0 MB/s\u001b[0m eta \u001b[36m0:00:00\u001b[0m\n",
            "\u001b[?25hDownloading gensim-4.3.1-cp311-cp311-manylinux_2_17_x86_64.manylinux2014_x86_64.whl (26.6 MB)\n",
            "\u001b[2K   \u001b[90m━━━━━━━━━━━━━━━━━━━━━━━━━━━━━━━━━━━━━━━━\u001b[0m \u001b[32m26.6/26.6 MB\u001b[0m \u001b[31m76.8 MB/s\u001b[0m eta \u001b[36m0:00:00\u001b[0m\n",
            "\u001b[?25hDownloading tensorflow-2.12.0-cp311-cp311-manylinux_2_17_x86_64.manylinux2014_x86_64.whl (586.0 MB)\n",
            "\u001b[2K   \u001b[90m━━━━━━━━━━━━━━━━━━━━━━━━━━━━━━━━━━━━━━━━\u001b[0m \u001b[32m586.0/586.0 MB\u001b[0m \u001b[31m3.1 MB/s\u001b[0m eta \u001b[36m0:00:00\u001b[0m\n",
            "\u001b[?25hDownloading gast-0.4.0-py3-none-any.whl (9.8 kB)\n",
            "Downloading jax-0.4.30-py3-none-any.whl (2.0 MB)\n",
            "\u001b[2K   \u001b[90m━━━━━━━━━━━━━━━━━━━━━━━━━━━━━━━━━━━━━━━━\u001b[0m \u001b[32m2.0/2.0 MB\u001b[0m \u001b[31m55.7 MB/s\u001b[0m eta \u001b[36m0:00:00\u001b[0m\n",
            "\u001b[?25hDownloading keras-2.12.0-py2.py3-none-any.whl (1.7 MB)\n",
            "\u001b[2K   \u001b[90m━━━━━━━━━━━━━━━━━━━━━━━━━━━━━━━━━━━━━━━━\u001b[0m \u001b[32m1.7/1.7 MB\u001b[0m \u001b[31m43.1 MB/s\u001b[0m eta \u001b[36m0:00:00\u001b[0m\n",
            "\u001b[?25hDownloading protobuf-4.25.7-cp37-abi3-manylinux2014_x86_64.whl (294 kB)\n",
            "\u001b[2K   \u001b[90m━━━━━━━━━━━━━━━━━━━━━━━━━━━━━━━━━━━━━━━━\u001b[0m \u001b[32m294.6/294.6 kB\u001b[0m \u001b[31m17.2 MB/s\u001b[0m eta \u001b[36m0:00:00\u001b[0m\n",
            "\u001b[?25hDownloading tensorboard-2.12.3-py3-none-any.whl (5.6 MB)\n",
            "\u001b[2K   \u001b[90m━━━━━━━━━━━━━━━━━━━━━━━━━━━━━━━━━━━━━━━━\u001b[0m \u001b[32m5.6/5.6 MB\u001b[0m \u001b[31m51.6 MB/s\u001b[0m eta \u001b[36m0:00:00\u001b[0m\n",
            "\u001b[?25hDownloading tensorflow_estimator-2.12.0-py2.py3-none-any.whl (440 kB)\n",
            "\u001b[2K   \u001b[90m━━━━━━━━━━━━━━━━━━━━━━━━━━━━━━━━━━━━━━━━\u001b[0m \u001b[32m440.7/440.7 kB\u001b[0m \u001b[31m23.8 MB/s\u001b[0m eta \u001b[36m0:00:00\u001b[0m\n",
            "\u001b[?25hDownloading wrapt-1.14.1-cp311-cp311-manylinux_2_5_x86_64.manylinux1_x86_64.manylinux_2_17_x86_64.manylinux2014_x86_64.whl (78 kB)\n",
            "\u001b[2K   \u001b[90m━━━━━━━━━━━━━━━━━━━━━━━━━━━━━━━━━━━━━━━━\u001b[0m \u001b[32m78.4/78.4 kB\u001b[0m \u001b[31m4.9 MB/s\u001b[0m eta \u001b[36m0:00:00\u001b[0m\n",
            "\u001b[?25hDownloading google_auth_oauthlib-1.0.0-py2.py3-none-any.whl (18 kB)\n",
            "Downloading jaxlib-0.4.30-cp311-cp311-manylinux2014_x86_64.whl (79.6 MB)\n",
            "\u001b[2K   \u001b[90m━━━━━━━━━━━━━━━━━━━━━━━━━━━━━━━━━━━━━━━━\u001b[0m \u001b[32m79.6/79.6 MB\u001b[0m \u001b[31m10.0 MB/s\u001b[0m eta \u001b[36m0:00:00\u001b[0m\n",
            "\u001b[?25hInstalling collected packages: wrapt, tensorflow-estimator, protobuf, numpy, keras, gast, scipy, jaxlib, google-auth-oauthlib, gensim, tensorboard, jax, tensorflow\n",
            "  Attempting uninstall: wrapt\n",
            "    Found existing installation: wrapt 1.17.2\n",
            "    Uninstalling wrapt-1.17.2:\n",
            "      Successfully uninstalled wrapt-1.17.2\n",
            "  Attempting uninstall: protobuf\n",
            "    Found existing installation: protobuf 5.29.4\n",
            "    Uninstalling protobuf-5.29.4:\n",
            "      Successfully uninstalled protobuf-5.29.4\n",
            "  Attempting uninstall: keras\n",
            "    Found existing installation: keras 3.8.0\n",
            "    Uninstalling keras-3.8.0:\n",
            "      Successfully uninstalled keras-3.8.0\n",
            "  Attempting uninstall: gast\n",
            "    Found existing installation: gast 0.6.0\n",
            "    Uninstalling gast-0.6.0:\n",
            "      Successfully uninstalled gast-0.6.0\n",
            "  Attempting uninstall: jaxlib\n",
            "    Found existing installation: jaxlib 0.5.1\n",
            "    Uninstalling jaxlib-0.5.1:\n",
            "      Successfully uninstalled jaxlib-0.5.1\n",
            "  Attempting uninstall: google-auth-oauthlib\n",
            "    Found existing installation: google-auth-oauthlib 1.2.2\n",
            "    Uninstalling google-auth-oauthlib-1.2.2:\n",
            "      Successfully uninstalled google-auth-oauthlib-1.2.2\n",
            "  Attempting uninstall: tensorboard\n",
            "    Found existing installation: tensorboard 2.18.0\n",
            "    Uninstalling tensorboard-2.18.0:\n",
            "      Successfully uninstalled tensorboard-2.18.0\n",
            "  Attempting uninstall: jax\n",
            "    Found existing installation: jax 0.5.2\n",
            "    Uninstalling jax-0.5.2:\n",
            "      Successfully uninstalled jax-0.5.2\n",
            "\u001b[31mERROR: pip's dependency resolver does not currently take into account all the packages that are installed. This behaviour is the source of the following dependency conflicts.\n",
            "cvxpy 1.6.5 requires scipy>=1.11.0, but you have scipy 1.10.1 which is incompatible.\n",
            "xarray 2025.3.1 requires numpy>=1.24, but you have numpy 1.23.5 which is incompatible.\n",
            "orbax-checkpoint 0.11.13 requires jax>=0.5.0, but you have jax 0.4.30 which is incompatible.\n",
            "bigframes 2.4.0 requires numpy>=1.24.0, but you have numpy 1.23.5 which is incompatible.\n",
            "tensorflow-decision-forests 1.11.0 requires tensorflow==2.18.0, but you have tensorflow 2.12.0 which is incompatible.\n",
            "tf-keras 2.18.0 requires tensorflow<2.19,>=2.18, but you have tensorflow 2.12.0 which is incompatible.\n",
            "blosc2 3.3.2 requires numpy>=1.26, but you have numpy 1.23.5 which is incompatible.\n",
            "chex 0.1.89 requires numpy>=1.24.1, but you have numpy 1.23.5 which is incompatible.\n",
            "treescope 0.1.9 requires numpy>=1.25.2, but you have numpy 1.23.5 which is incompatible.\n",
            "scikit-image 0.25.2 requires numpy>=1.24, but you have numpy 1.23.5 which is incompatible.\n",
            "scikit-image 0.25.2 requires scipy>=1.11.4, but you have scipy 1.10.1 which is incompatible.\n",
            "ydf 0.11.0 requires protobuf<6.0.0,>=5.29.1, but you have protobuf 4.25.7 which is incompatible.\n",
            "pymc 5.22.0 requires numpy>=1.25.0, but you have numpy 1.23.5 which is incompatible.\n",
            "tensorflow-text 2.18.1 requires tensorflow<2.19,>=2.18.0, but you have tensorflow 2.12.0 which is incompatible.\n",
            "imbalanced-learn 0.13.0 requires numpy<3,>=1.24.3, but you have numpy 1.23.5 which is incompatible.\n",
            "thinc 8.3.6 requires numpy<3.0.0,>=2.0.0, but you have numpy 1.23.5 which is incompatible.\n",
            "albumentations 2.0.6 requires numpy>=1.24.4, but you have numpy 1.23.5 which is incompatible.\n",
            "tsfresh 0.21.0 requires scipy>=1.14.0; python_version >= \"3.10\", but you have scipy 1.10.1 which is incompatible.\n",
            "flax 0.10.6 requires jax>=0.5.1, but you have jax 0.4.30 which is incompatible.\n",
            "grpcio-status 1.71.0 requires protobuf<6.0dev,>=5.26.1, but you have protobuf 4.25.7 which is incompatible.\n",
            "albucore 0.0.24 requires numpy>=1.24.4, but you have numpy 1.23.5 which is incompatible.\n",
            "db-dtypes 1.4.3 requires numpy>=1.24.0, but you have numpy 1.23.5 which is incompatible.\u001b[0m\u001b[31m\n",
            "\u001b[0mSuccessfully installed gast-0.4.0 gensim-4.3.1 google-auth-oauthlib-1.0.0 jax-0.4.30 jaxlib-0.4.30 keras-2.12.0 numpy-1.23.5 protobuf-4.25.7 scipy-1.10.1 tensorboard-2.12.3 tensorflow-2.12.0 tensorflow-estimator-2.12.0 wrapt-1.14.1\n"
          ]
        },
        {
          "output_type": "display_data",
          "data": {
            "application/vnd.colab-display-data+json": {
              "pip_warning": {
                "packages": [
                  "numpy"
                ]
              },
              "id": "6d24878ab324425fa50a7938191f7f9c"
            }
          },
          "metadata": {}
        }
      ],
      "source": [
        "!pip install numpy==1.23.5 scipy==1.10.1 gensim==4.3.1 tensorflow==2.12.0"
      ]
    },
    {
      "cell_type": "code",
      "execution_count": null,
      "metadata": {
        "id": "LcbS-mVO4vzl"
      },
      "outputs": [],
      "source": [
        "import pandas as pd\n",
        "import numpy as np\n",
        "import matplotlib.pyplot as plt\n",
        "import re\n",
        "import string\n",
        "import contractions\n",
        "\n",
        "from gensim.models import Word2Vec\n",
        "\n",
        "import nltk\n",
        "from nltk.corpus import stopwords\n",
        "from vaderSentiment.vaderSentiment import SentimentIntensityAnalyzer\n",
        "\n",
        "from sklearn.preprocessing import LabelEncoder\n",
        "from sklearn.model_selection import train_test_split\n",
        "from sklearn.metrics import confusion_matrix, classification_report, accuracy_score\n",
        "from sklearn.utils.class_weight import compute_class_weight\n",
        "\n",
        "from tensorflow.keras.preprocessing.text import Tokenizer\n",
        "from tensorflow.keras.preprocessing.sequence import pad_sequences\n",
        "\n",
        "from tensorflow.keras.models import Sequential\n",
        "from tensorflow.keras.layers import Embedding, LSTM, Bidirectional, Dense, Dropout, GRU, GlobalAveragePooling1D, Conv1D\n",
        "\n",
        "from tensorflow.keras.callbacks import EarlyStopping, ModelCheckpoint\n"
      ]
    },
    {
      "cell_type": "code",
      "execution_count": null,
      "metadata": {
        "colab": {
          "base_uri": "https://localhost:8080/"
        },
        "id": "k81qY3H_jT1h",
        "outputId": "85fd5c3a-6ce2-4c52-e860-889a39026a1c"
      },
      "outputs": [
        {
          "output_type": "stream",
          "name": "stderr",
          "text": [
            "[nltk_data] Downloading package stopwords to /root/nltk_data...\n",
            "[nltk_data]   Unzipping corpora/stopwords.zip.\n"
          ]
        },
        {
          "output_type": "execute_result",
          "data": {
            "text/plain": [
              "True"
            ]
          },
          "metadata": {},
          "execution_count": 2
        }
      ],
      "source": [
        "nltk.download('stopwords')"
      ]
    },
    {
      "cell_type": "markdown",
      "metadata": {
        "id": "cwR0blIRp_0z"
      },
      "source": [
        "**Import data**"
      ]
    },
    {
      "cell_type": "code",
      "execution_count": null,
      "metadata": {
        "colab": {
          "base_uri": "https://localhost:8080/",
          "height": 642
        },
        "id": "quC-596Dui2J",
        "outputId": "c1da8064-7beb-48c2-caca-1f52a6e6c17a"
      },
      "outputs": [
        {
          "output_type": "execute_result",
          "data": {
            "text/plain": [
              "         date                 title  \\\n",
              "0   2/15/2025            Impressive   \n",
              "1  10/16/2024         Waste of Time   \n",
              "2  10/16/2024         Waste of Time   \n",
              "3  12/21/2024          Not Accurate   \n",
              "4   3/23/2025  Fantastic Experience   \n",
              "\n",
              "                                              review  rating       username  \\\n",
              "0  Mother former community upon vote fact. Sure s...       2          ybass   \n",
              "1  General paper understand main. Or age half won...       5        glenn33   \n",
              "2  Here situation his high stage. Agree certainly...       4       debbie27   \n",
              "3  Rule court behind growth reality. Tonight whos...       1  hannahrussell   \n",
              "4  Case opportunity season road write. Effort gre...       3        cnorton   \n",
              "\n",
              "   helpful_votes  review_length platform language   location  version  \\\n",
              "0             68             78   Mobile       es     Canada      3.0   \n",
              "1             71            193      Web       de      India      4.1   \n",
              "2             66            184      Web       hi      India      4.1   \n",
              "3              5            193      Web       fr     Canada      4.0   \n",
              "4             71            131      Web       hi  Australia      4.1   \n",
              "\n",
              "  verified_purchase  \n",
              "0                No  \n",
              "1               Yes  \n",
              "2               Yes  \n",
              "3               Yes  \n",
              "4                No  "
            ],
            "text/html": [
              "\n",
              "  <div id=\"df-4c697b2b-4130-4953-87dd-83743a7d5a71\" class=\"colab-df-container\">\n",
              "    <div>\n",
              "<style scoped>\n",
              "    .dataframe tbody tr th:only-of-type {\n",
              "        vertical-align: middle;\n",
              "    }\n",
              "\n",
              "    .dataframe tbody tr th {\n",
              "        vertical-align: top;\n",
              "    }\n",
              "\n",
              "    .dataframe thead th {\n",
              "        text-align: right;\n",
              "    }\n",
              "</style>\n",
              "<table border=\"1\" class=\"dataframe\">\n",
              "  <thead>\n",
              "    <tr style=\"text-align: right;\">\n",
              "      <th></th>\n",
              "      <th>date</th>\n",
              "      <th>title</th>\n",
              "      <th>review</th>\n",
              "      <th>rating</th>\n",
              "      <th>username</th>\n",
              "      <th>helpful_votes</th>\n",
              "      <th>review_length</th>\n",
              "      <th>platform</th>\n",
              "      <th>language</th>\n",
              "      <th>location</th>\n",
              "      <th>version</th>\n",
              "      <th>verified_purchase</th>\n",
              "    </tr>\n",
              "  </thead>\n",
              "  <tbody>\n",
              "    <tr>\n",
              "      <th>0</th>\n",
              "      <td>2/15/2025</td>\n",
              "      <td>Impressive</td>\n",
              "      <td>Mother former community upon vote fact. Sure s...</td>\n",
              "      <td>2</td>\n",
              "      <td>ybass</td>\n",
              "      <td>68</td>\n",
              "      <td>78</td>\n",
              "      <td>Mobile</td>\n",
              "      <td>es</td>\n",
              "      <td>Canada</td>\n",
              "      <td>3.0</td>\n",
              "      <td>No</td>\n",
              "    </tr>\n",
              "    <tr>\n",
              "      <th>1</th>\n",
              "      <td>10/16/2024</td>\n",
              "      <td>Waste of Time</td>\n",
              "      <td>General paper understand main. Or age half won...</td>\n",
              "      <td>5</td>\n",
              "      <td>glenn33</td>\n",
              "      <td>71</td>\n",
              "      <td>193</td>\n",
              "      <td>Web</td>\n",
              "      <td>de</td>\n",
              "      <td>India</td>\n",
              "      <td>4.1</td>\n",
              "      <td>Yes</td>\n",
              "    </tr>\n",
              "    <tr>\n",
              "      <th>2</th>\n",
              "      <td>10/16/2024</td>\n",
              "      <td>Waste of Time</td>\n",
              "      <td>Here situation his high stage. Agree certainly...</td>\n",
              "      <td>4</td>\n",
              "      <td>debbie27</td>\n",
              "      <td>66</td>\n",
              "      <td>184</td>\n",
              "      <td>Web</td>\n",
              "      <td>hi</td>\n",
              "      <td>India</td>\n",
              "      <td>4.1</td>\n",
              "      <td>Yes</td>\n",
              "    </tr>\n",
              "    <tr>\n",
              "      <th>3</th>\n",
              "      <td>12/21/2024</td>\n",
              "      <td>Not Accurate</td>\n",
              "      <td>Rule court behind growth reality. Tonight whos...</td>\n",
              "      <td>1</td>\n",
              "      <td>hannahrussell</td>\n",
              "      <td>5</td>\n",
              "      <td>193</td>\n",
              "      <td>Web</td>\n",
              "      <td>fr</td>\n",
              "      <td>Canada</td>\n",
              "      <td>4.0</td>\n",
              "      <td>Yes</td>\n",
              "    </tr>\n",
              "    <tr>\n",
              "      <th>4</th>\n",
              "      <td>3/23/2025</td>\n",
              "      <td>Fantastic Experience</td>\n",
              "      <td>Case opportunity season road write. Effort gre...</td>\n",
              "      <td>3</td>\n",
              "      <td>cnorton</td>\n",
              "      <td>71</td>\n",
              "      <td>131</td>\n",
              "      <td>Web</td>\n",
              "      <td>hi</td>\n",
              "      <td>Australia</td>\n",
              "      <td>4.1</td>\n",
              "      <td>No</td>\n",
              "    </tr>\n",
              "  </tbody>\n",
              "</table>\n",
              "</div>\n",
              "    <div class=\"colab-df-buttons\">\n",
              "\n",
              "  <div class=\"colab-df-container\">\n",
              "    <button class=\"colab-df-convert\" onclick=\"convertToInteractive('df-4c697b2b-4130-4953-87dd-83743a7d5a71')\"\n",
              "            title=\"Convert this dataframe to an interactive table.\"\n",
              "            style=\"display:none;\">\n",
              "\n",
              "  <svg xmlns=\"http://www.w3.org/2000/svg\" height=\"24px\" viewBox=\"0 -960 960 960\">\n",
              "    <path d=\"M120-120v-720h720v720H120Zm60-500h600v-160H180v160Zm220 220h160v-160H400v160Zm0 220h160v-160H400v160ZM180-400h160v-160H180v160Zm440 0h160v-160H620v160ZM180-180h160v-160H180v160Zm440 0h160v-160H620v160Z\"/>\n",
              "  </svg>\n",
              "    </button>\n",
              "\n",
              "  <style>\n",
              "    .colab-df-container {\n",
              "      display:flex;\n",
              "      gap: 12px;\n",
              "    }\n",
              "\n",
              "    .colab-df-convert {\n",
              "      background-color: #E8F0FE;\n",
              "      border: none;\n",
              "      border-radius: 50%;\n",
              "      cursor: pointer;\n",
              "      display: none;\n",
              "      fill: #1967D2;\n",
              "      height: 32px;\n",
              "      padding: 0 0 0 0;\n",
              "      width: 32px;\n",
              "    }\n",
              "\n",
              "    .colab-df-convert:hover {\n",
              "      background-color: #E2EBFA;\n",
              "      box-shadow: 0px 1px 2px rgba(60, 64, 67, 0.3), 0px 1px 3px 1px rgba(60, 64, 67, 0.15);\n",
              "      fill: #174EA6;\n",
              "    }\n",
              "\n",
              "    .colab-df-buttons div {\n",
              "      margin-bottom: 4px;\n",
              "    }\n",
              "\n",
              "    [theme=dark] .colab-df-convert {\n",
              "      background-color: #3B4455;\n",
              "      fill: #D2E3FC;\n",
              "    }\n",
              "\n",
              "    [theme=dark] .colab-df-convert:hover {\n",
              "      background-color: #434B5C;\n",
              "      box-shadow: 0px 1px 3px 1px rgba(0, 0, 0, 0.15);\n",
              "      filter: drop-shadow(0px 1px 2px rgba(0, 0, 0, 0.3));\n",
              "      fill: #FFFFFF;\n",
              "    }\n",
              "  </style>\n",
              "\n",
              "    <script>\n",
              "      const buttonEl =\n",
              "        document.querySelector('#df-4c697b2b-4130-4953-87dd-83743a7d5a71 button.colab-df-convert');\n",
              "      buttonEl.style.display =\n",
              "        google.colab.kernel.accessAllowed ? 'block' : 'none';\n",
              "\n",
              "      async function convertToInteractive(key) {\n",
              "        const element = document.querySelector('#df-4c697b2b-4130-4953-87dd-83743a7d5a71');\n",
              "        const dataTable =\n",
              "          await google.colab.kernel.invokeFunction('convertToInteractive',\n",
              "                                                    [key], {});\n",
              "        if (!dataTable) return;\n",
              "\n",
              "        const docLinkHtml = 'Like what you see? Visit the ' +\n",
              "          '<a target=\"_blank\" href=https://colab.research.google.com/notebooks/data_table.ipynb>data table notebook</a>'\n",
              "          + ' to learn more about interactive tables.';\n",
              "        element.innerHTML = '';\n",
              "        dataTable['output_type'] = 'display_data';\n",
              "        await google.colab.output.renderOutput(dataTable, element);\n",
              "        const docLink = document.createElement('div');\n",
              "        docLink.innerHTML = docLinkHtml;\n",
              "        element.appendChild(docLink);\n",
              "      }\n",
              "    </script>\n",
              "  </div>\n",
              "\n",
              "\n",
              "    <div id=\"df-a6f6f5b7-5adc-46aa-a214-fb911fc712ab\">\n",
              "      <button class=\"colab-df-quickchart\" onclick=\"quickchart('df-a6f6f5b7-5adc-46aa-a214-fb911fc712ab')\"\n",
              "                title=\"Suggest charts\"\n",
              "                style=\"display:none;\">\n",
              "\n",
              "<svg xmlns=\"http://www.w3.org/2000/svg\" height=\"24px\"viewBox=\"0 0 24 24\"\n",
              "     width=\"24px\">\n",
              "    <g>\n",
              "        <path d=\"M19 3H5c-1.1 0-2 .9-2 2v14c0 1.1.9 2 2 2h14c1.1 0 2-.9 2-2V5c0-1.1-.9-2-2-2zM9 17H7v-7h2v7zm4 0h-2V7h2v10zm4 0h-2v-4h2v4z\"/>\n",
              "    </g>\n",
              "</svg>\n",
              "      </button>\n",
              "\n",
              "<style>\n",
              "  .colab-df-quickchart {\n",
              "      --bg-color: #E8F0FE;\n",
              "      --fill-color: #1967D2;\n",
              "      --hover-bg-color: #E2EBFA;\n",
              "      --hover-fill-color: #174EA6;\n",
              "      --disabled-fill-color: #AAA;\n",
              "      --disabled-bg-color: #DDD;\n",
              "  }\n",
              "\n",
              "  [theme=dark] .colab-df-quickchart {\n",
              "      --bg-color: #3B4455;\n",
              "      --fill-color: #D2E3FC;\n",
              "      --hover-bg-color: #434B5C;\n",
              "      --hover-fill-color: #FFFFFF;\n",
              "      --disabled-bg-color: #3B4455;\n",
              "      --disabled-fill-color: #666;\n",
              "  }\n",
              "\n",
              "  .colab-df-quickchart {\n",
              "    background-color: var(--bg-color);\n",
              "    border: none;\n",
              "    border-radius: 50%;\n",
              "    cursor: pointer;\n",
              "    display: none;\n",
              "    fill: var(--fill-color);\n",
              "    height: 32px;\n",
              "    padding: 0;\n",
              "    width: 32px;\n",
              "  }\n",
              "\n",
              "  .colab-df-quickchart:hover {\n",
              "    background-color: var(--hover-bg-color);\n",
              "    box-shadow: 0 1px 2px rgba(60, 64, 67, 0.3), 0 1px 3px 1px rgba(60, 64, 67, 0.15);\n",
              "    fill: var(--button-hover-fill-color);\n",
              "  }\n",
              "\n",
              "  .colab-df-quickchart-complete:disabled,\n",
              "  .colab-df-quickchart-complete:disabled:hover {\n",
              "    background-color: var(--disabled-bg-color);\n",
              "    fill: var(--disabled-fill-color);\n",
              "    box-shadow: none;\n",
              "  }\n",
              "\n",
              "  .colab-df-spinner {\n",
              "    border: 2px solid var(--fill-color);\n",
              "    border-color: transparent;\n",
              "    border-bottom-color: var(--fill-color);\n",
              "    animation:\n",
              "      spin 1s steps(1) infinite;\n",
              "  }\n",
              "\n",
              "  @keyframes spin {\n",
              "    0% {\n",
              "      border-color: transparent;\n",
              "      border-bottom-color: var(--fill-color);\n",
              "      border-left-color: var(--fill-color);\n",
              "    }\n",
              "    20% {\n",
              "      border-color: transparent;\n",
              "      border-left-color: var(--fill-color);\n",
              "      border-top-color: var(--fill-color);\n",
              "    }\n",
              "    30% {\n",
              "      border-color: transparent;\n",
              "      border-left-color: var(--fill-color);\n",
              "      border-top-color: var(--fill-color);\n",
              "      border-right-color: var(--fill-color);\n",
              "    }\n",
              "    40% {\n",
              "      border-color: transparent;\n",
              "      border-right-color: var(--fill-color);\n",
              "      border-top-color: var(--fill-color);\n",
              "    }\n",
              "    60% {\n",
              "      border-color: transparent;\n",
              "      border-right-color: var(--fill-color);\n",
              "    }\n",
              "    80% {\n",
              "      border-color: transparent;\n",
              "      border-right-color: var(--fill-color);\n",
              "      border-bottom-color: var(--fill-color);\n",
              "    }\n",
              "    90% {\n",
              "      border-color: transparent;\n",
              "      border-bottom-color: var(--fill-color);\n",
              "    }\n",
              "  }\n",
              "</style>\n",
              "\n",
              "      <script>\n",
              "        async function quickchart(key) {\n",
              "          const quickchartButtonEl =\n",
              "            document.querySelector('#' + key + ' button');\n",
              "          quickchartButtonEl.disabled = true;  // To prevent multiple clicks.\n",
              "          quickchartButtonEl.classList.add('colab-df-spinner');\n",
              "          try {\n",
              "            const charts = await google.colab.kernel.invokeFunction(\n",
              "                'suggestCharts', [key], {});\n",
              "          } catch (error) {\n",
              "            console.error('Error during call to suggestCharts:', error);\n",
              "          }\n",
              "          quickchartButtonEl.classList.remove('colab-df-spinner');\n",
              "          quickchartButtonEl.classList.add('colab-df-quickchart-complete');\n",
              "        }\n",
              "        (() => {\n",
              "          let quickchartButtonEl =\n",
              "            document.querySelector('#df-a6f6f5b7-5adc-46aa-a214-fb911fc712ab button');\n",
              "          quickchartButtonEl.style.display =\n",
              "            google.colab.kernel.accessAllowed ? 'block' : 'none';\n",
              "        })();\n",
              "      </script>\n",
              "    </div>\n",
              "\n",
              "    </div>\n",
              "  </div>\n"
            ],
            "application/vnd.google.colaboratory.intrinsic+json": {
              "type": "dataframe",
              "variable_name": "df",
              "summary": "{\n  \"name\": \"df\",\n  \"rows\": 10000,\n  \"fields\": [\n    {\n      \"column\": \"date\",\n      \"properties\": {\n        \"dtype\": \"object\",\n        \"num_unique_values\": 366,\n        \"samples\": [\n          \"9/14/2024\",\n          \"5/17/2024\",\n          \"12/14/2024\"\n        ],\n        \"semantic_type\": \"\",\n        \"description\": \"\"\n      }\n    },\n    {\n      \"column\": \"title\",\n      \"properties\": {\n        \"dtype\": \"category\",\n        \"num_unique_values\": 10,\n        \"samples\": [\n          \"Too Slow\",\n          \"Waste of Time\",\n          \"Needs Improvement\"\n        ],\n        \"semantic_type\": \"\",\n        \"description\": \"\"\n      }\n    },\n    {\n      \"column\": \"review\",\n      \"properties\": {\n        \"dtype\": \"string\",\n        \"num_unique_values\": 10000,\n        \"samples\": [\n          \"Few both him cultural time plant song.\\nWho doctor water than traditional so. Certain election thus study staff interview.\",\n          \"Protect discussion evidence west again his stuff. Trial west bill hair stage occur whole.\",\n          \"Foreign team close.\\nMedia possible begin that. Country your my until throughout office. Other suddenly close explain.\\nDark the arrive management image. Police fast tend challenge job hand.\"\n        ],\n        \"semantic_type\": \"\",\n        \"description\": \"\"\n      }\n    },\n    {\n      \"column\": \"rating\",\n      \"properties\": {\n        \"dtype\": \"number\",\n        \"std\": 1,\n        \"min\": 1,\n        \"max\": 5,\n        \"num_unique_values\": 5,\n        \"samples\": [\n          5,\n          3,\n          4\n        ],\n        \"semantic_type\": \"\",\n        \"description\": \"\"\n      }\n    },\n    {\n      \"column\": \"username\",\n      \"properties\": {\n        \"dtype\": \"string\",\n        \"num_unique_values\": 9460,\n        \"samples\": [\n          \"laurie71\",\n          \"jacqueline54\",\n          \"antonio49\"\n        ],\n        \"semantic_type\": \"\",\n        \"description\": \"\"\n      }\n    },\n    {\n      \"column\": \"helpful_votes\",\n      \"properties\": {\n        \"dtype\": \"number\",\n        \"std\": 28,\n        \"min\": 0,\n        \"max\": 100,\n        \"num_unique_values\": 101,\n        \"samples\": [\n          46,\n          4,\n          58\n        ],\n        \"semantic_type\": \"\",\n        \"description\": \"\"\n      }\n    },\n    {\n      \"column\": \"review_length\",\n      \"properties\": {\n        \"dtype\": \"number\",\n        \"std\": 34,\n        \"min\": 30,\n        \"max\": 199,\n        \"num_unique_values\": 163,\n        \"samples\": [\n          66,\n          113,\n          54\n        ],\n        \"semantic_type\": \"\",\n        \"description\": \"\"\n      }\n    },\n    {\n      \"column\": \"platform\",\n      \"properties\": {\n        \"dtype\": \"category\",\n        \"num_unique_values\": 2,\n        \"samples\": [\n          \"Web\",\n          \"Mobile\"\n        ],\n        \"semantic_type\": \"\",\n        \"description\": \"\"\n      }\n    },\n    {\n      \"column\": \"language\",\n      \"properties\": {\n        \"dtype\": \"category\",\n        \"num_unique_values\": 5,\n        \"samples\": [\n          \"de\",\n          \"en\"\n        ],\n        \"semantic_type\": \"\",\n        \"description\": \"\"\n      }\n    },\n    {\n      \"column\": \"location\",\n      \"properties\": {\n        \"dtype\": \"category\",\n        \"num_unique_values\": 6,\n        \"samples\": [\n          \"Canada\",\n          \"India\"\n        ],\n        \"semantic_type\": \"\",\n        \"description\": \"\"\n      }\n    },\n    {\n      \"column\": \"version\",\n      \"properties\": {\n        \"dtype\": \"number\",\n        \"std\": 0.438935213342622,\n        \"min\": 3.0,\n        \"max\": 4.1,\n        \"num_unique_values\": 4,\n        \"samples\": [\n          4.1,\n          3.5\n        ],\n        \"semantic_type\": \"\",\n        \"description\": \"\"\n      }\n    },\n    {\n      \"column\": \"verified_purchase\",\n      \"properties\": {\n        \"dtype\": \"category\",\n        \"num_unique_values\": 2,\n        \"samples\": [\n          \"Yes\",\n          \"No\"\n        ],\n        \"semantic_type\": \"\",\n        \"description\": \"\"\n      }\n    }\n  ]\n}"
            }
          },
          "metadata": {},
          "execution_count": 4
        }
      ],
      "source": [
        "df = pd.read_csv('/content/drive/MyDrive/chatgpt_reviews.csv')\n",
        "df.head()"
      ]
    },
    {
      "cell_type": "markdown",
      "metadata": {
        "id": "y8o-_CPXAnwf"
      },
      "source": [
        "**Pre-processing**"
      ]
    },
    {
      "cell_type": "code",
      "execution_count": null,
      "metadata": {
        "colab": {
          "base_uri": "https://localhost:8080/"
        },
        "id": "LUeWNRW08k6D",
        "outputId": "3a3403c6-43a9-4e64-e0ef-24023a297866"
      },
      "outputs": [
        {
          "output_type": "execute_result",
          "data": {
            "text/plain": [
              "(10000, 12)"
            ]
          },
          "metadata": {},
          "execution_count": 5
        }
      ],
      "source": [
        "df.shape"
      ]
    },
    {
      "cell_type": "code",
      "execution_count": null,
      "metadata": {
        "colab": {
          "base_uri": "https://localhost:8080/"
        },
        "id": "jOZyupkF8k8u",
        "outputId": "59f3af62-60f0-464d-eca1-215e59aa9ef2"
      },
      "outputs": [
        {
          "output_type": "execute_result",
          "data": {
            "text/plain": [
              "Index(['date', 'title', 'review', 'rating', 'username', 'helpful_votes',\n",
              "       'review_length', 'platform', 'language', 'location', 'version',\n",
              "       'verified_purchase'],\n",
              "      dtype='object')"
            ]
          },
          "metadata": {},
          "execution_count": 6
        }
      ],
      "source": [
        "df.rename(columns=lambda x: x.strip().lower().replace(\" \", \"_\"), inplace=True)\n",
        "df.columns"
      ]
    },
    {
      "cell_type": "code",
      "execution_count": null,
      "metadata": {
        "colab": {
          "base_uri": "https://localhost:8080/"
        },
        "id": "RWBzmx-B8k_U",
        "outputId": "01f8387a-388f-46d1-8022-edf7a1d71dc8"
      },
      "outputs": [
        {
          "output_type": "stream",
          "name": "stdout",
          "text": [
            "<class 'pandas.core.frame.DataFrame'>\n",
            "RangeIndex: 10000 entries, 0 to 9999\n",
            "Data columns (total 12 columns):\n",
            " #   Column             Non-Null Count  Dtype         \n",
            "---  ------             --------------  -----         \n",
            " 0   date               10000 non-null  datetime64[ns]\n",
            " 1   title              10000 non-null  object        \n",
            " 2   review             10000 non-null  object        \n",
            " 3   rating             10000 non-null  int64         \n",
            " 4   username           10000 non-null  object        \n",
            " 5   helpful_votes      10000 non-null  int64         \n",
            " 6   review_length      10000 non-null  int64         \n",
            " 7   platform           10000 non-null  object        \n",
            " 8   language           10000 non-null  object        \n",
            " 9   location           10000 non-null  object        \n",
            " 10  version            10000 non-null  float64       \n",
            " 11  verified_purchase  10000 non-null  object        \n",
            "dtypes: datetime64[ns](1), float64(1), int64(3), object(7)\n",
            "memory usage: 937.6+ KB\n"
          ]
        }
      ],
      "source": [
        "df['date'] = pd.to_datetime(df['date'])\n",
        "df.info()"
      ]
    },
    {
      "cell_type": "code",
      "execution_count": null,
      "metadata": {
        "colab": {
          "base_uri": "https://localhost:8080/",
          "height": 206
        },
        "id": "3jG9Wtra8lBw",
        "outputId": "bc8d6086-35e0-4128-f22d-8432e6fc562f"
      },
      "outputs": [
        {
          "output_type": "execute_result",
          "data": {
            "text/plain": [
              "                                              review  \\\n",
              "0  Mother former community upon vote fact. Sure s...   \n",
              "1  General paper understand main. Or age half won...   \n",
              "2  Here situation his high stage. Agree certainly...   \n",
              "3  Rule court behind growth reality. Tonight whos...   \n",
              "4  Case opportunity season road write. Effort gre...   \n",
              "\n",
              "                                        clean_review  \n",
              "0  mother former community upon vote fact sure st...  \n",
              "1  general paper understand main age half wonder ...  \n",
              "2  situation high stage agree certainly blue thou...  \n",
              "3  rule court behind growth reality tonight whose...  \n",
              "4  case opportunity season road write effort gree...  "
            ],
            "text/html": [
              "\n",
              "  <div id=\"df-e8c56cbb-c29e-476d-8abe-746788f8fbd1\" class=\"colab-df-container\">\n",
              "    <div>\n",
              "<style scoped>\n",
              "    .dataframe tbody tr th:only-of-type {\n",
              "        vertical-align: middle;\n",
              "    }\n",
              "\n",
              "    .dataframe tbody tr th {\n",
              "        vertical-align: top;\n",
              "    }\n",
              "\n",
              "    .dataframe thead th {\n",
              "        text-align: right;\n",
              "    }\n",
              "</style>\n",
              "<table border=\"1\" class=\"dataframe\">\n",
              "  <thead>\n",
              "    <tr style=\"text-align: right;\">\n",
              "      <th></th>\n",
              "      <th>review</th>\n",
              "      <th>clean_review</th>\n",
              "    </tr>\n",
              "  </thead>\n",
              "  <tbody>\n",
              "    <tr>\n",
              "      <th>0</th>\n",
              "      <td>Mother former community upon vote fact. Sure s...</td>\n",
              "      <td>mother former community upon vote fact sure st...</td>\n",
              "    </tr>\n",
              "    <tr>\n",
              "      <th>1</th>\n",
              "      <td>General paper understand main. Or age half won...</td>\n",
              "      <td>general paper understand main age half wonder ...</td>\n",
              "    </tr>\n",
              "    <tr>\n",
              "      <th>2</th>\n",
              "      <td>Here situation his high stage. Agree certainly...</td>\n",
              "      <td>situation high stage agree certainly blue thou...</td>\n",
              "    </tr>\n",
              "    <tr>\n",
              "      <th>3</th>\n",
              "      <td>Rule court behind growth reality. Tonight whos...</td>\n",
              "      <td>rule court behind growth reality tonight whose...</td>\n",
              "    </tr>\n",
              "    <tr>\n",
              "      <th>4</th>\n",
              "      <td>Case opportunity season road write. Effort gre...</td>\n",
              "      <td>case opportunity season road write effort gree...</td>\n",
              "    </tr>\n",
              "  </tbody>\n",
              "</table>\n",
              "</div>\n",
              "    <div class=\"colab-df-buttons\">\n",
              "\n",
              "  <div class=\"colab-df-container\">\n",
              "    <button class=\"colab-df-convert\" onclick=\"convertToInteractive('df-e8c56cbb-c29e-476d-8abe-746788f8fbd1')\"\n",
              "            title=\"Convert this dataframe to an interactive table.\"\n",
              "            style=\"display:none;\">\n",
              "\n",
              "  <svg xmlns=\"http://www.w3.org/2000/svg\" height=\"24px\" viewBox=\"0 -960 960 960\">\n",
              "    <path d=\"M120-120v-720h720v720H120Zm60-500h600v-160H180v160Zm220 220h160v-160H400v160Zm0 220h160v-160H400v160ZM180-400h160v-160H180v160Zm440 0h160v-160H620v160ZM180-180h160v-160H180v160Zm440 0h160v-160H620v160Z\"/>\n",
              "  </svg>\n",
              "    </button>\n",
              "\n",
              "  <style>\n",
              "    .colab-df-container {\n",
              "      display:flex;\n",
              "      gap: 12px;\n",
              "    }\n",
              "\n",
              "    .colab-df-convert {\n",
              "      background-color: #E8F0FE;\n",
              "      border: none;\n",
              "      border-radius: 50%;\n",
              "      cursor: pointer;\n",
              "      display: none;\n",
              "      fill: #1967D2;\n",
              "      height: 32px;\n",
              "      padding: 0 0 0 0;\n",
              "      width: 32px;\n",
              "    }\n",
              "\n",
              "    .colab-df-convert:hover {\n",
              "      background-color: #E2EBFA;\n",
              "      box-shadow: 0px 1px 2px rgba(60, 64, 67, 0.3), 0px 1px 3px 1px rgba(60, 64, 67, 0.15);\n",
              "      fill: #174EA6;\n",
              "    }\n",
              "\n",
              "    .colab-df-buttons div {\n",
              "      margin-bottom: 4px;\n",
              "    }\n",
              "\n",
              "    [theme=dark] .colab-df-convert {\n",
              "      background-color: #3B4455;\n",
              "      fill: #D2E3FC;\n",
              "    }\n",
              "\n",
              "    [theme=dark] .colab-df-convert:hover {\n",
              "      background-color: #434B5C;\n",
              "      box-shadow: 0px 1px 3px 1px rgba(0, 0, 0, 0.15);\n",
              "      filter: drop-shadow(0px 1px 2px rgba(0, 0, 0, 0.3));\n",
              "      fill: #FFFFFF;\n",
              "    }\n",
              "  </style>\n",
              "\n",
              "    <script>\n",
              "      const buttonEl =\n",
              "        document.querySelector('#df-e8c56cbb-c29e-476d-8abe-746788f8fbd1 button.colab-df-convert');\n",
              "      buttonEl.style.display =\n",
              "        google.colab.kernel.accessAllowed ? 'block' : 'none';\n",
              "\n",
              "      async function convertToInteractive(key) {\n",
              "        const element = document.querySelector('#df-e8c56cbb-c29e-476d-8abe-746788f8fbd1');\n",
              "        const dataTable =\n",
              "          await google.colab.kernel.invokeFunction('convertToInteractive',\n",
              "                                                    [key], {});\n",
              "        if (!dataTable) return;\n",
              "\n",
              "        const docLinkHtml = 'Like what you see? Visit the ' +\n",
              "          '<a target=\"_blank\" href=https://colab.research.google.com/notebooks/data_table.ipynb>data table notebook</a>'\n",
              "          + ' to learn more about interactive tables.';\n",
              "        element.innerHTML = '';\n",
              "        dataTable['output_type'] = 'display_data';\n",
              "        await google.colab.output.renderOutput(dataTable, element);\n",
              "        const docLink = document.createElement('div');\n",
              "        docLink.innerHTML = docLinkHtml;\n",
              "        element.appendChild(docLink);\n",
              "      }\n",
              "    </script>\n",
              "  </div>\n",
              "\n",
              "\n",
              "    <div id=\"df-5119397d-34cc-4f30-a460-570de94bd7ab\">\n",
              "      <button class=\"colab-df-quickchart\" onclick=\"quickchart('df-5119397d-34cc-4f30-a460-570de94bd7ab')\"\n",
              "                title=\"Suggest charts\"\n",
              "                style=\"display:none;\">\n",
              "\n",
              "<svg xmlns=\"http://www.w3.org/2000/svg\" height=\"24px\"viewBox=\"0 0 24 24\"\n",
              "     width=\"24px\">\n",
              "    <g>\n",
              "        <path d=\"M19 3H5c-1.1 0-2 .9-2 2v14c0 1.1.9 2 2 2h14c1.1 0 2-.9 2-2V5c0-1.1-.9-2-2-2zM9 17H7v-7h2v7zm4 0h-2V7h2v10zm4 0h-2v-4h2v4z\"/>\n",
              "    </g>\n",
              "</svg>\n",
              "      </button>\n",
              "\n",
              "<style>\n",
              "  .colab-df-quickchart {\n",
              "      --bg-color: #E8F0FE;\n",
              "      --fill-color: #1967D2;\n",
              "      --hover-bg-color: #E2EBFA;\n",
              "      --hover-fill-color: #174EA6;\n",
              "      --disabled-fill-color: #AAA;\n",
              "      --disabled-bg-color: #DDD;\n",
              "  }\n",
              "\n",
              "  [theme=dark] .colab-df-quickchart {\n",
              "      --bg-color: #3B4455;\n",
              "      --fill-color: #D2E3FC;\n",
              "      --hover-bg-color: #434B5C;\n",
              "      --hover-fill-color: #FFFFFF;\n",
              "      --disabled-bg-color: #3B4455;\n",
              "      --disabled-fill-color: #666;\n",
              "  }\n",
              "\n",
              "  .colab-df-quickchart {\n",
              "    background-color: var(--bg-color);\n",
              "    border: none;\n",
              "    border-radius: 50%;\n",
              "    cursor: pointer;\n",
              "    display: none;\n",
              "    fill: var(--fill-color);\n",
              "    height: 32px;\n",
              "    padding: 0;\n",
              "    width: 32px;\n",
              "  }\n",
              "\n",
              "  .colab-df-quickchart:hover {\n",
              "    background-color: var(--hover-bg-color);\n",
              "    box-shadow: 0 1px 2px rgba(60, 64, 67, 0.3), 0 1px 3px 1px rgba(60, 64, 67, 0.15);\n",
              "    fill: var(--button-hover-fill-color);\n",
              "  }\n",
              "\n",
              "  .colab-df-quickchart-complete:disabled,\n",
              "  .colab-df-quickchart-complete:disabled:hover {\n",
              "    background-color: var(--disabled-bg-color);\n",
              "    fill: var(--disabled-fill-color);\n",
              "    box-shadow: none;\n",
              "  }\n",
              "\n",
              "  .colab-df-spinner {\n",
              "    border: 2px solid var(--fill-color);\n",
              "    border-color: transparent;\n",
              "    border-bottom-color: var(--fill-color);\n",
              "    animation:\n",
              "      spin 1s steps(1) infinite;\n",
              "  }\n",
              "\n",
              "  @keyframes spin {\n",
              "    0% {\n",
              "      border-color: transparent;\n",
              "      border-bottom-color: var(--fill-color);\n",
              "      border-left-color: var(--fill-color);\n",
              "    }\n",
              "    20% {\n",
              "      border-color: transparent;\n",
              "      border-left-color: var(--fill-color);\n",
              "      border-top-color: var(--fill-color);\n",
              "    }\n",
              "    30% {\n",
              "      border-color: transparent;\n",
              "      border-left-color: var(--fill-color);\n",
              "      border-top-color: var(--fill-color);\n",
              "      border-right-color: var(--fill-color);\n",
              "    }\n",
              "    40% {\n",
              "      border-color: transparent;\n",
              "      border-right-color: var(--fill-color);\n",
              "      border-top-color: var(--fill-color);\n",
              "    }\n",
              "    60% {\n",
              "      border-color: transparent;\n",
              "      border-right-color: var(--fill-color);\n",
              "    }\n",
              "    80% {\n",
              "      border-color: transparent;\n",
              "      border-right-color: var(--fill-color);\n",
              "      border-bottom-color: var(--fill-color);\n",
              "    }\n",
              "    90% {\n",
              "      border-color: transparent;\n",
              "      border-bottom-color: var(--fill-color);\n",
              "    }\n",
              "  }\n",
              "</style>\n",
              "\n",
              "      <script>\n",
              "        async function quickchart(key) {\n",
              "          const quickchartButtonEl =\n",
              "            document.querySelector('#' + key + ' button');\n",
              "          quickchartButtonEl.disabled = true;  // To prevent multiple clicks.\n",
              "          quickchartButtonEl.classList.add('colab-df-spinner');\n",
              "          try {\n",
              "            const charts = await google.colab.kernel.invokeFunction(\n",
              "                'suggestCharts', [key], {});\n",
              "          } catch (error) {\n",
              "            console.error('Error during call to suggestCharts:', error);\n",
              "          }\n",
              "          quickchartButtonEl.classList.remove('colab-df-spinner');\n",
              "          quickchartButtonEl.classList.add('colab-df-quickchart-complete');\n",
              "        }\n",
              "        (() => {\n",
              "          let quickchartButtonEl =\n",
              "            document.querySelector('#df-5119397d-34cc-4f30-a460-570de94bd7ab button');\n",
              "          quickchartButtonEl.style.display =\n",
              "            google.colab.kernel.accessAllowed ? 'block' : 'none';\n",
              "        })();\n",
              "      </script>\n",
              "    </div>\n",
              "\n",
              "    </div>\n",
              "  </div>\n"
            ],
            "application/vnd.google.colaboratory.intrinsic+json": {
              "type": "dataframe",
              "summary": "{\n  \"name\": \"df[['review', 'clean_review']]\",\n  \"rows\": 5,\n  \"fields\": [\n    {\n      \"column\": \"review\",\n      \"properties\": {\n        \"dtype\": \"string\",\n        \"num_unique_values\": 5,\n        \"samples\": [\n          \"General paper understand main. Or age half wonder positive senior. Book agency professional over alone away sit.\\nAfter like law policy than what news. Book moment hour approach kind future ten.\",\n          \"Case opportunity season road write. Effort green worry tonight similar.\\nWife last probably light think war. Safe claim whose check.\",\n          \"Here situation his high stage. Agree certainly blue thousand sense.\\nHelp remember media over as country. Rich box increase place better energy tough nation. Care think huge game value.\"\n        ],\n        \"semantic_type\": \"\",\n        \"description\": \"\"\n      }\n    },\n    {\n      \"column\": \"clean_review\",\n      \"properties\": {\n        \"dtype\": \"string\",\n        \"num_unique_values\": 5,\n        \"samples\": [\n          \"general paper understand main age half wonder positive senior book agency professional alone away sitafter like law policy news book moment hour approach kind future ten\",\n          \"case opportunity season road write effort green worry tonight similarwife last probably light think war safe claim whose check\",\n          \"situation high stage agree certainly blue thousand sensehelp remember media country rich box increase place better energy tough nation care think huge game value\"\n        ],\n        \"semantic_type\": \"\",\n        \"description\": \"\"\n      }\n    }\n  ]\n}"
            }
          },
          "metadata": {},
          "execution_count": 8
        }
      ],
      "source": [
        "stop_words = set(stopwords.words('english'))\n",
        "\n",
        "def clean_text(text):\n",
        "    # Convert to lowercase\n",
        "    text = str(text).lower()\n",
        "\n",
        "    # Convert the txt expand\n",
        "    text = contractions.fix(text)\n",
        "\n",
        "    # Remove extra spaces\n",
        "    text = re.sub(' +', ' ', text)\n",
        "\n",
        "    # Remove text in square brackets\n",
        "    text = re.sub(r'\\[.*?\\]', '', text)\n",
        "\n",
        "    # Remove links\n",
        "    text = re.sub(r'https?://\\S+|www\\.\\S+', '', text)\n",
        "\n",
        "    # Remove HTML tags\n",
        "    text = re.sub(r'<.*?>+', '', text)\n",
        "\n",
        "    # Remove newline characters\n",
        "    text = re.sub(r'\\n', '', text)\n",
        "\n",
        "    # Remove punctuation\n",
        "    text = re.sub('[%s]' % re.escape(string.punctuation), '', text)\n",
        "\n",
        "    # Remove special characters and numbers (if any remain)\n",
        "    text = re.sub(r'[^a-z\\s]', '', text)\n",
        "\n",
        "    # Remove stopwords\n",
        "    words = text.split()\n",
        "    words = [word for word in words if word not in stop_words]\n",
        "\n",
        "    return ' '.join(words)\n",
        "\n",
        "# Apply to the review column\n",
        "df['clean_review'] = df['review'].apply(clean_text)\n",
        "\n",
        "# View the cleaned reviews\n",
        "df[['review', 'clean_review']].head()"
      ]
    },
    {
      "cell_type": "code",
      "execution_count": null,
      "metadata": {
        "colab": {
          "base_uri": "https://localhost:8080/"
        },
        "id": "4lfEQIXfEW8s",
        "outputId": "b75d3f4c-048f-4059-cd33-b2535c75146b"
      },
      "outputs": [
        {
          "output_type": "stream",
          "name": "stdout",
          "text": [
            "                                        clean_review sentiment\n",
            "0  mother former community upon vote fact sure st...  positive\n",
            "1  general paper understand main age half wonder ...  positive\n",
            "2  situation high stage agree certainly blue thou...  positive\n",
            "3  rule court behind growth reality tonight whose...  positive\n",
            "4  case opportunity season road write effort gree...  negative\n"
          ]
        }
      ],
      "source": [
        "# Initialize analyzer\n",
        "analyzer = SentimentIntensityAnalyzer()\n",
        "\n",
        "# Define sentiment function\n",
        "def get_vader_sentiment(review):\n",
        "    scores = analyzer.polarity_scores(review)\n",
        "    compound = scores['compound']\n",
        "    if compound >= 0.05:\n",
        "        return 'positive'\n",
        "    elif compound <= -0.05:\n",
        "        return 'negative'\n",
        "    else:\n",
        "        return 'neutral'\n",
        "\n",
        "# Apply to the 'clean_review' column\n",
        "df['sentiment'] = df['clean_review'].apply(get_vader_sentiment)\n",
        "\n",
        "# Preview result\n",
        "print(df[['clean_review', 'sentiment']].head())"
      ]
    },
    {
      "cell_type": "code",
      "execution_count": null,
      "metadata": {
        "colab": {
          "base_uri": "https://localhost:8080/",
          "height": 209
        },
        "id": "ro53tSnkEW_4",
        "outputId": "388ace14-69d7-4971-cdc3-3f652f45899e"
      },
      "outputs": [
        {
          "output_type": "execute_result",
          "data": {
            "text/plain": [
              "sentiment\n",
              "positive    7079\n",
              "negative    1859\n",
              "neutral     1062\n",
              "Name: count, dtype: int64"
            ],
            "text/html": [
              "<div>\n",
              "<style scoped>\n",
              "    .dataframe tbody tr th:only-of-type {\n",
              "        vertical-align: middle;\n",
              "    }\n",
              "\n",
              "    .dataframe tbody tr th {\n",
              "        vertical-align: top;\n",
              "    }\n",
              "\n",
              "    .dataframe thead th {\n",
              "        text-align: right;\n",
              "    }\n",
              "</style>\n",
              "<table border=\"1\" class=\"dataframe\">\n",
              "  <thead>\n",
              "    <tr style=\"text-align: right;\">\n",
              "      <th></th>\n",
              "      <th>count</th>\n",
              "    </tr>\n",
              "    <tr>\n",
              "      <th>sentiment</th>\n",
              "      <th></th>\n",
              "    </tr>\n",
              "  </thead>\n",
              "  <tbody>\n",
              "    <tr>\n",
              "      <th>positive</th>\n",
              "      <td>7079</td>\n",
              "    </tr>\n",
              "    <tr>\n",
              "      <th>negative</th>\n",
              "      <td>1859</td>\n",
              "    </tr>\n",
              "    <tr>\n",
              "      <th>neutral</th>\n",
              "      <td>1062</td>\n",
              "    </tr>\n",
              "  </tbody>\n",
              "</table>\n",
              "</div><br><label><b>dtype:</b> int64</label>"
            ]
          },
          "metadata": {},
          "execution_count": 10
        }
      ],
      "source": [
        "df[\"sentiment\"].value_counts()"
      ]
    },
    {
      "cell_type": "markdown",
      "metadata": {
        "id": "q4QFTAl8xozI"
      },
      "source": [
        "**Text Tokenization & Padding**"
      ]
    },
    {
      "cell_type": "code",
      "execution_count": null,
      "metadata": {
        "id": "X8NfhpLl88NO"
      },
      "outputs": [],
      "source": [
        "# Parameters\n",
        "max_words = 10000   # number of words to keep in the vocabulary\n",
        "max_len = 100       # length of sequences\n",
        "\n",
        "# Initialize and fit tokenizer\n",
        "tokenizer = Tokenizer(num_words=max_words, oov_token=\"<OOV>\")  # (Out Of Vocabulary)\n",
        "tokenizer.fit_on_texts(df['clean_review'])\n",
        "\n",
        "# Convert texts to sequences\n",
        "sequences = tokenizer.texts_to_sequences(df['clean_review'])\n",
        "\n",
        "# Pad sequences to ensure equal length\n",
        "padded = pad_sequences(sequences, maxlen=max_len, padding='post', truncating='post')"
      ]
    },
    {
      "cell_type": "markdown",
      "metadata": {
        "id": "lij-NEX82mOt"
      },
      "source": [
        "**Encode Labels**"
      ]
    },
    {
      "cell_type": "code",
      "execution_count": null,
      "metadata": {
        "colab": {
          "base_uri": "https://localhost:8080/"
        },
        "id": "us3LZeCS8lG8",
        "outputId": "23fa0da4-249a-43aa-d6db-ccdcfad2fad0"
      },
      "outputs": [
        {
          "output_type": "stream",
          "name": "stdout",
          "text": [
            "{'negative': 0, 'neutral': 1, 'positive': 2}\n"
          ]
        }
      ],
      "source": [
        "label_encoder = LabelEncoder()\n",
        "labels = label_encoder.fit_transform(df['sentiment'])\n",
        "print(dict(zip(label_encoder.classes_, label_encoder.transform(label_encoder.classes_))))"
      ]
    },
    {
      "cell_type": "code",
      "execution_count": null,
      "metadata": {
        "colab": {
          "base_uri": "https://localhost:8080/"
        },
        "id": "tGTRM1C9sCLE",
        "outputId": "111a8a1a-0ba5-4986-b6a4-abf99bb80c92"
      },
      "outputs": [
        {
          "output_type": "stream",
          "name": "stdout",
          "text": [
            "[0 1 2]\n",
            "[1859 1062 7079]\n"
          ]
        }
      ],
      "source": [
        "unique_labels, label_counts = np.unique(labels, return_counts=True)\n",
        "print(unique_labels)\n",
        "print(label_counts)\n",
        "\n",
        "# old\n",
        "# Negative - 0 - 1859\n",
        "# Neutral - 1 - 1062\n",
        "# Positive - 2 - 7079\n"
      ]
    },
    {
      "cell_type": "code",
      "execution_count": null,
      "metadata": {
        "colab": {
          "base_uri": "https://localhost:8080/"
        },
        "id": "a8GI7N7IbRve",
        "outputId": "88586449-db1e-4037-fb2c-c1d99de6617f"
      },
      "outputs": [
        {
          "output_type": "execute_result",
          "data": {
            "text/plain": [
              "array([[161, 849, 773, ...,   0,   0,   0],\n",
              "       [737, 695, 863, ...,   0,   0,   0],\n",
              "       [721, 539, 577, ...,   0,   0,   0],\n",
              "       ...,\n",
              "       [496, 225, 123, ...,   0,   0,   0],\n",
              "       [412, 686, 175, ...,   0,   0,   0],\n",
              "       [148, 386, 798, ...,   0,   0,   0]], dtype=int32)"
            ]
          },
          "metadata": {},
          "execution_count": 14
        }
      ],
      "source": [
        "padded"
      ]
    },
    {
      "cell_type": "code",
      "execution_count": null,
      "metadata": {
        "colab": {
          "base_uri": "https://localhost:8080/"
        },
        "id": "woB47kCTbVD7",
        "outputId": "2e8472bb-cd98-4adb-8a16-1739d01d19cf"
      },
      "outputs": [
        {
          "output_type": "execute_result",
          "data": {
            "text/plain": [
              "array([2, 2, 2, ..., 2, 2, 2])"
            ]
          },
          "metadata": {},
          "execution_count": 15
        }
      ],
      "source": [
        "labels"
      ]
    },
    {
      "cell_type": "markdown",
      "metadata": {
        "id": "7XH-9pcC2pom"
      },
      "source": [
        "**Train-Test Split**"
      ]
    },
    {
      "cell_type": "code",
      "execution_count": null,
      "metadata": {
        "id": "CipIPkd_jUdu"
      },
      "outputs": [],
      "source": [
        "X_train, X_test, y_train, y_test = train_test_split(padded, labels, test_size=0.2, random_state=42)"
      ]
    },
    {
      "cell_type": "markdown",
      "metadata": {
        "id": "5Kbw-9Br2wAA"
      },
      "source": [
        "**Build the Model and train the Model**"
      ]
    },
    {
      "cell_type": "markdown",
      "source": [
        "**LSTM**"
      ],
      "metadata": {
        "id": "jCjudoOcFZ5k"
      }
    },
    {
      "cell_type": "code",
      "execution_count": null,
      "metadata": {
        "id": "p0cMhm1FjUgn"
      },
      "outputs": [],
      "source": [
        "model = Sequential([\n",
        "    Embedding(input_dim=10000, output_dim=128),\n",
        "    LSTM(64, return_sequences=True),             # Processes word sequences\n",
        "    Dropout(0.5),                                # Prevents overfitting\n",
        "    LSTM(32),                                    # Summarizes the sequence\n",
        "    Dense(3, activation='softmax')               # 3-class classification\n",
        "])\n",
        "model.compile(loss='sparse_categorical_crossentropy', # (not one-hot vectors)\n",
        "              optimizer='adam',\n",
        "              metrics=['accuracy'])"
      ]
    },
    {
      "cell_type": "code",
      "execution_count": null,
      "metadata": {
        "colab": {
          "base_uri": "https://localhost:8080/"
        },
        "id": "eblqVlx1jUjm",
        "outputId": "86178c07-69a6-4a24-e54d-bfd77087b632"
      },
      "outputs": [
        {
          "output_type": "stream",
          "name": "stdout",
          "text": [
            "Epoch 1/5\n",
            "250/250 [==============================] - 47s 158ms/step - loss: 0.8118 - accuracy: 0.7042 - val_loss: 0.7875 - val_accuracy: 0.7140\n",
            "Epoch 2/5\n",
            "250/250 [==============================] - 41s 163ms/step - loss: 0.7998 - accuracy: 0.7064 - val_loss: 0.7891 - val_accuracy: 0.7140\n",
            "Epoch 3/5\n",
            "250/250 [==============================] - 39s 157ms/step - loss: 0.7989 - accuracy: 0.7064 - val_loss: 0.7882 - val_accuracy: 0.7140\n",
            "Epoch 4/5\n",
            "250/250 [==============================] - 41s 166ms/step - loss: 0.7990 - accuracy: 0.7064 - val_loss: 0.7876 - val_accuracy: 0.7140\n",
            "Epoch 5/5\n",
            "250/250 [==============================] - 39s 157ms/step - loss: 0.8000 - accuracy: 0.7064 - val_loss: 0.7868 - val_accuracy: 0.7140\n"
          ]
        }
      ],
      "source": [
        "history = model.fit(X_train, y_train,\n",
        "    epochs=5,\n",
        "    batch_size=32,\n",
        "    validation_data=(X_test, y_test)\n",
        ")"
      ]
    },
    {
      "cell_type": "code",
      "execution_count": null,
      "metadata": {
        "colab": {
          "base_uri": "https://localhost:8080/"
        },
        "id": "VjbPS0_0jUmb",
        "outputId": "70dc1d6e-ad25-4cdf-f03c-524b6e8d2ddd"
      },
      "outputs": [
        {
          "output_type": "stream",
          "name": "stdout",
          "text": [
            "Epoch 1/15\n",
            "250/250 [==============================] - 38s 151ms/step - loss: 0.7990 - accuracy: 0.7064 - val_loss: 0.7879 - val_accuracy: 0.7140\n",
            "Epoch 2/15\n",
            "250/250 [==============================] - 39s 155ms/step - loss: 0.7990 - accuracy: 0.7064 - val_loss: 0.7869 - val_accuracy: 0.7140\n",
            "Epoch 3/15\n",
            "250/250 [==============================] - 40s 160ms/step - loss: 0.7984 - accuracy: 0.7064 - val_loss: 0.7892 - val_accuracy: 0.7140\n",
            "Epoch 4/15\n",
            "250/250 [==============================] - 45s 181ms/step - loss: 0.7987 - accuracy: 0.7064 - val_loss: 0.7866 - val_accuracy: 0.7140\n"
          ]
        }
      ],
      "source": [
        "early_stop = EarlyStopping(\n",
        "    monitor='val_accuracy',   # You can also use 'val_loss'\n",
        "    patience=3,           # Stop if no improvement after 3 epochs\n",
        "    restore_best_weights=True\n",
        ")\n",
        "\n",
        "history = model.fit(\n",
        "    X_train, y_train,\n",
        "    validation_data=(X_test, y_test),\n",
        "    epochs=15,\n",
        "    callbacks=[early_stop],\n",
        "    batch_size=32\n",
        ")"
      ]
    },
    {
      "cell_type": "markdown",
      "metadata": {
        "id": "cK-03cOoPERU"
      },
      "source": [
        "\n",
        "\n",
        "> **Bidirectional LSTM**\n",
        "\n"
      ]
    },
    {
      "cell_type": "code",
      "execution_count": null,
      "metadata": {
        "id": "wsXlD9jAjUpQ"
      },
      "outputs": [],
      "source": [
        "model = Sequential([\n",
        "    Embedding(input_dim=10000, output_dim=128),\n",
        "    Bidirectional(LSTM(128, return_sequences=True)),  # remembers information from every word in the sentence, not just the last one.\n",
        "    Dropout(0.5),\n",
        "    LSTM(64), # remembers the final summary of the whole sentence.\n",
        "    Dense(64, activation='relu'),\n",
        "    Dropout(0.3),\n",
        "    Dense(3, activation='softmax') # Output layer for 3-class classification\n",
        "])\n",
        "\n",
        "model.compile(\n",
        "    loss='sparse_categorical_crossentropy',  # Since labels are 0, 1, 2\n",
        "    optimizer='adam',\n",
        "    metrics=['accuracy']\n",
        ")"
      ]
    },
    {
      "cell_type": "code",
      "execution_count": null,
      "metadata": {
        "colab": {
          "base_uri": "https://localhost:8080/"
        },
        "id": "OWDrNWeVQZoF",
        "outputId": "1043f2d7-a1dc-4206-d3b8-fc257154d49b"
      },
      "outputs": [
        {
          "output_type": "stream",
          "name": "stdout",
          "text": [
            "Epoch 1/15\n",
            "250/250 [==============================] - 178s 683ms/step - loss: 0.8181 - accuracy: 0.7053 - val_loss: 0.7914 - val_accuracy: 0.7140\n",
            "Epoch 2/15\n",
            "250/250 [==============================] - 154s 618ms/step - loss: 0.8093 - accuracy: 0.7064 - val_loss: 0.7913 - val_accuracy: 0.7140\n",
            "Epoch 3/15\n",
            "250/250 [==============================] - 159s 634ms/step - loss: 0.8049 - accuracy: 0.7064 - val_loss: 0.7884 - val_accuracy: 0.7140\n",
            "Epoch 4/15\n",
            "250/250 [==============================] - 154s 615ms/step - loss: 0.8057 - accuracy: 0.7064 - val_loss: 0.7927 - val_accuracy: 0.7140\n"
          ]
        }
      ],
      "source": [
        "history = model.fit(\n",
        "    X_train, y_train,\n",
        "    validation_data=(X_test, y_test),\n",
        "    epochs=15,\n",
        "    callbacks=[early_stop],\n",
        "    batch_size=32)\n"
      ]
    },
    {
      "cell_type": "markdown",
      "metadata": {
        "id": "m8akF3S_QaSQ"
      },
      "source": [
        "**Class Weights**"
      ]
    },
    {
      "cell_type": "code",
      "execution_count": null,
      "metadata": {
        "colab": {
          "base_uri": "https://localhost:8080/"
        },
        "id": "hLWFQh_Twx-Y",
        "outputId": "4332a09d-d529-46c0-82c6-bbd14d05c4be"
      },
      "outputs": [
        {
          "output_type": "execute_result",
          "data": {
            "text/plain": [
              "{0: 1.7813404586951682, 1: 3.1298904538341157, 2: 0.4718928803161682}"
            ]
          },
          "metadata": {},
          "execution_count": 17
        }
      ],
      "source": [
        "class_weights = compute_class_weight(\n",
        "    class_weight='balanced',\n",
        "    classes=np.unique(y_train),  # [0, 1, 2]\n",
        "    y=y_train\n",
        ")\n",
        "class_weights_dict = dict(enumerate(class_weights))\n",
        "class_weights_dict"
      ]
    },
    {
      "cell_type": "code",
      "execution_count": null,
      "metadata": {
        "colab": {
          "base_uri": "https://localhost:8080/"
        },
        "id": "RjKvTpDPjUu1",
        "outputId": "9a5ffe20-8f35-4ad1-effb-ec7227bbc1c0"
      },
      "outputs": [
        {
          "output_type": "stream",
          "name": "stdout",
          "text": [
            "Epoch 1/15\n",
            "250/250 [==============================] - 160s 639ms/step - loss: 1.0996 - accuracy: 0.4306 - val_loss: 1.1107 - val_accuracy: 0.1810\n",
            "Epoch 2/15\n",
            "250/250 [==============================] - 158s 632ms/step - loss: 1.0992 - accuracy: 0.2905 - val_loss: 1.1090 - val_accuracy: 0.1810\n",
            "Epoch 3/15\n",
            "250/250 [==============================] - 162s 649ms/step - loss: 1.0990 - accuracy: 0.3234 - val_loss: 1.0986 - val_accuracy: 0.1810\n",
            "Epoch 4/15\n",
            "250/250 [==============================] - 163s 650ms/step - loss: 1.0999 - accuracy: 0.3111 - val_loss: 1.1064 - val_accuracy: 0.1050\n",
            "Epoch 5/15\n",
            "250/250 [==============================] - 162s 649ms/step - loss: 1.0991 - accuracy: 0.3877 - val_loss: 1.1172 - val_accuracy: 0.1050\n",
            "Epoch 6/15\n",
            "250/250 [==============================] - ETA: 0s - loss: 1.0990 - accuracy: 0.3483Restoring model weights from the end of the best epoch: 3.\n",
            "250/250 [==============================] - 165s 660ms/step - loss: 1.0990 - accuracy: 0.3483 - val_loss: 1.1004 - val_accuracy: 0.1050\n",
            "Epoch 6: early stopping\n"
          ]
        }
      ],
      "source": [
        "early_stop = EarlyStopping(\n",
        "    monitor='val_loss',\n",
        "    patience=3,\n",
        "    restore_best_weights=True,\n",
        "    verbose=1\n",
        ")\n",
        "\n",
        "\n",
        "history = model.fit(\n",
        "    X_train, y_train,\n",
        "    validation_data=(X_test, y_test),\n",
        "    epochs=15,\n",
        "    batch_size=32,\n",
        "    callbacks=[early_stop],\n",
        "    class_weight=class_weights_dict,\n",
        "    verbose=1\n",
        ")"
      ]
    },
    {
      "cell_type": "markdown",
      "metadata": {
        "id": "-Lz9AEiwmCLw"
      },
      "source": [
        "**Word2Vec**"
      ]
    },
    {
      "cell_type": "code",
      "execution_count": null,
      "metadata": {
        "id": "odfA4irEjUxo"
      },
      "outputs": [],
      "source": [
        "# Convert reviews to text\n",
        "texts = df['clean_review'].astype(str).tolist()\n",
        "\n",
        "# Tokenize for Word2Vec\n",
        "tokenized_reviews = [review.split() for review in texts]  # tokenized input\n",
        "\n",
        "# Train Word2Vec (optional if you're not using pretrained embeddings)\n",
        "w2v_model = Word2Vec(sentences=tokenized_reviews, vector_size=128, window=5, min_count=2, workers=4)\n",
        "\n",
        "# Tokenization for LSTM input\n",
        "vocab_size = 10000\n",
        "tokenizer = Tokenizer(num_words=vocab_size, oov_token=\"<OOV>\")\n",
        "tokenizer.fit_on_texts(texts)\n",
        "word_index = tokenizer.word_index\n",
        "\n",
        "# Padding\n",
        "sequences = tokenizer.texts_to_sequences(texts)\n",
        "max_len = int(np.percentile([len(seq) for seq in sequences], 99))\n",
        "padded_sequences = pad_sequences(sequences, maxlen=max_len, padding='post')"
      ]
    },
    {
      "cell_type": "code",
      "execution_count": null,
      "metadata": {
        "colab": {
          "base_uri": "https://localhost:8080/"
        },
        "id": "9dQZMBOZkBo0",
        "outputId": "5e9582f6-f14c-4e55-a445-30a784125499"
      },
      "outputs": [
        {
          "output_type": "execute_result",
          "data": {
            "text/plain": [
              "28"
            ]
          },
          "metadata": {},
          "execution_count": 19
        }
      ],
      "source": [
        "max_len"
      ]
    },
    {
      "cell_type": "code",
      "execution_count": null,
      "metadata": {
        "colab": {
          "base_uri": "https://localhost:8080/"
        },
        "id": "vPWnpxBgkyp0",
        "outputId": "af66d51c-5182-4955-ada6-cdba71dfe541"
      },
      "outputs": [
        {
          "output_type": "execute_result",
          "data": {
            "text/plain": [
              "(10000, 128)"
            ]
          },
          "metadata": {},
          "execution_count": 20
        }
      ],
      "source": [
        "embedding_matrix = np.zeros((vocab_size, 128))\n",
        "for word, i in tokenizer.word_index.items():\n",
        "    if i < vocab_size and word in w2v_model.wv:\n",
        "        embedding_matrix[i] = w2v_model.wv[word]\n",
        "\n",
        "\n",
        "embedding_matrix.shape"
      ]
    },
    {
      "cell_type": "code",
      "execution_count": null,
      "metadata": {
        "id": "YJ_cYRgnMz34"
      },
      "outputs": [],
      "source": [
        "model = Sequential([\n",
        "    Embedding(input_dim=vocab_size,\n",
        "              output_dim=128,\n",
        "              weights=[embedding_matrix],    # use our pre-trained Word2Vec table\n",
        "              input_length=100,\n",
        "              trainable=False),              # don't change these word meanings\n",
        "    LSTM(64),                                # trying to remember the emotion or meaning\n",
        "    Dense(3, activation='softmax'),\n",
        "\n",
        "])\n",
        "\n",
        "model.compile(\n",
        "    loss='sparse_categorical_crossentropy',\n",
        "    optimizer='adam',\n",
        "    metrics=['accuracy']\n",
        ")"
      ]
    },
    {
      "cell_type": "code",
      "execution_count": null,
      "metadata": {
        "id": "511ndh7wmQzW",
        "colab": {
          "base_uri": "https://localhost:8080/"
        },
        "outputId": "59b38daf-e24d-49fe-f294-ac4c3da74d50"
      },
      "outputs": [
        {
          "output_type": "execute_result",
          "data": {
            "text/plain": [
              "{0: 1.7813404586951682, 1: 3.1298904538341157, 2: 0.4718928803161682}"
            ]
          },
          "metadata": {},
          "execution_count": 21
        }
      ],
      "source": [
        "class_weights = compute_class_weight('balanced', classes=np.unique(y_train), y=y_train)\n",
        "class_weights_dict = dict(enumerate(class_weights))\n",
        "class_weights_dict"
      ]
    },
    {
      "cell_type": "code",
      "execution_count": null,
      "metadata": {
        "colab": {
          "base_uri": "https://localhost:8080/"
        },
        "id": "K0ci5WSXlO0J",
        "outputId": "0e196547-00a4-4419-9c30-5e0efe03a648"
      },
      "outputs": [
        {
          "output_type": "stream",
          "name": "stdout",
          "text": [
            "Epoch 1/15\n",
            "250/250 [==============================] - 21s 74ms/step - loss: 1.0992 - accuracy: 0.3329 - val_loss: 1.1031 - val_accuracy: 0.1050\n",
            "Epoch 2/15\n",
            "250/250 [==============================] - 17s 69ms/step - loss: 1.0990 - accuracy: 0.2684 - val_loss: 1.0999 - val_accuracy: 0.1050\n",
            "Epoch 3/15\n",
            "250/250 [==============================] - 16s 65ms/step - loss: 1.0990 - accuracy: 0.2981 - val_loss: 1.0974 - val_accuracy: 0.1050\n",
            "Epoch 4/15\n",
            "250/250 [==============================] - 17s 69ms/step - loss: 1.0989 - accuracy: 0.1764 - val_loss: 1.0915 - val_accuracy: 0.7140\n",
            "Epoch 5/15\n",
            "250/250 [==============================] - 16s 64ms/step - loss: 1.0989 - accuracy: 0.2429 - val_loss: 1.0962 - val_accuracy: 0.1050\n",
            "Epoch 6/15\n",
            "250/250 [==============================] - 18s 72ms/step - loss: 1.0988 - accuracy: 0.3904 - val_loss: 1.0981 - val_accuracy: 0.1050\n",
            "Epoch 7/15\n",
            "250/250 [==============================] - 17s 69ms/step - loss: 1.0988 - accuracy: 0.1909 - val_loss: 1.0925 - val_accuracy: 0.7140\n"
          ]
        }
      ],
      "source": [
        "early_stop = EarlyStopping(\n",
        "    monitor='val_loss',\n",
        "    patience=3,\n",
        "    restore_best_weights=True\n",
        ")\n",
        "\n",
        "history = model.fit(\n",
        "    X_train, y_train,\n",
        "    validation_data=(X_test, y_test),\n",
        "    epochs=15,\n",
        "    batch_size=32,\n",
        "    callbacks=[early_stop],\n",
        "    class_weight=class_weights_dict,\n",
        "    verbose=1\n",
        ")"
      ]
    },
    {
      "cell_type": "code",
      "execution_count": null,
      "metadata": {
        "id": "3AoNgpg90vEk"
      },
      "outputs": [],
      "source": [
        "embedding_dim = embedding_matrix.shape[1]\n",
        "model = Sequential([\n",
        "    Embedding(input_dim=vocab_size,\n",
        "              output_dim=embedding_dim,\n",
        "              weights=[embedding_matrix],\n",
        "              input_length=100,\n",
        "              trainable=False),\n",
        "    GlobalAveragePooling1D(),          # averages all the word vectors\n",
        "    Dense(64, activation='relu'),\n",
        "    Dense(3, activation='softmax')\n",
        "])\n",
        "\n",
        "model.compile(\n",
        "    loss='sparse_categorical_crossentropy',\n",
        "    optimizer='adam',\n",
        "    metrics=['accuracy']\n",
        ")"
      ]
    },
    {
      "cell_type": "code",
      "execution_count": null,
      "metadata": {
        "colab": {
          "base_uri": "https://localhost:8080/"
        },
        "id": "dl0NfWkS1S27",
        "outputId": "8ca71790-7939-4481-a5de-4ffe185553e7"
      },
      "outputs": [
        {
          "output_type": "stream",
          "name": "stdout",
          "text": [
            "Epoch 1/15\n",
            "250/250 [==============================] - 2s 5ms/step - loss: 1.0969 - accuracy: 0.4674 - val_loss: 1.0915 - val_accuracy: 0.2560\n",
            "Epoch 2/15\n",
            "250/250 [==============================] - 1s 4ms/step - loss: 1.0911 - accuracy: 0.4929 - val_loss: 1.0661 - val_accuracy: 0.4025\n",
            "Epoch 3/15\n",
            "250/250 [==============================] - 1s 5ms/step - loss: 1.0854 - accuracy: 0.4877 - val_loss: 1.0738 - val_accuracy: 0.3285\n",
            "Epoch 4/15\n",
            "250/250 [==============================] - 1s 4ms/step - loss: 1.0800 - accuracy: 0.4294 - val_loss: 1.0973 - val_accuracy: 0.3310\n",
            "Epoch 5/15\n",
            "250/250 [==============================] - 1s 4ms/step - loss: 1.0756 - accuracy: 0.4695 - val_loss: 1.0586 - val_accuracy: 0.4970\n",
            "Epoch 6/15\n",
            "250/250 [==============================] - 2s 6ms/step - loss: 1.0728 - accuracy: 0.4256 - val_loss: 1.0854 - val_accuracy: 0.3995\n",
            "Epoch 7/15\n",
            "250/250 [==============================] - 1s 6ms/step - loss: 1.0698 - accuracy: 0.4683 - val_loss: 1.0868 - val_accuracy: 0.3310\n",
            "Epoch 8/15\n",
            "250/250 [==============================] - 1s 5ms/step - loss: 1.0691 - accuracy: 0.3894 - val_loss: 1.0767 - val_accuracy: 0.4465\n"
          ]
        }
      ],
      "source": [
        "history = model.fit(\n",
        "    X_train, y_train,\n",
        "    validation_data=(X_test, y_test),\n",
        "    epochs=15,\n",
        "    batch_size=32,\n",
        "    callbacks=[early_stop],\n",
        "    class_weight=class_weights_dict,\n",
        "    verbose=1\n",
        ")\n"
      ]
    },
    {
      "cell_type": "code",
      "execution_count": null,
      "metadata": {
        "colab": {
          "base_uri": "https://localhost:8080/"
        },
        "id": "lfS_DhIJ9UP4",
        "outputId": "b631c9b5-484f-4a04-e501-2d5ecdab0d17"
      },
      "outputs": [
        {
          "output_type": "stream",
          "name": "stdout",
          "text": [
            "Epoch 1/15\n",
            "125/125 [==============================] - 2s 16ms/step - loss: 0.8214 - accuracy: 0.6930 - val_loss: 0.7900 - val_accuracy: 0.7140\n",
            "Epoch 2/15\n",
            "125/125 [==============================] - 1s 5ms/step - loss: 0.7870 - accuracy: 0.7065 - val_loss: 0.7887 - val_accuracy: 0.7140\n",
            "Epoch 3/15\n",
            "125/125 [==============================] - 1s 5ms/step - loss: 0.7864 - accuracy: 0.7065 - val_loss: 0.7878 - val_accuracy: 0.7140\n",
            "Epoch 4/15\n",
            "125/125 [==============================] - 1s 5ms/step - loss: 0.7860 - accuracy: 0.7063 - val_loss: 0.7869 - val_accuracy: 0.7140\n",
            "Epoch 5/15\n",
            "125/125 [==============================] - 1s 4ms/step - loss: 0.7856 - accuracy: 0.7063 - val_loss: 0.7864 - val_accuracy: 0.7140\n",
            "Epoch 6/15\n",
            "125/125 [==============================] - 1s 4ms/step - loss: 0.7851 - accuracy: 0.7063 - val_loss: 0.7857 - val_accuracy: 0.7140\n",
            "Epoch 7/15\n",
            "125/125 [==============================] - 1s 4ms/step - loss: 0.7851 - accuracy: 0.7063 - val_loss: 0.7853 - val_accuracy: 0.7140\n",
            "Epoch 8/15\n",
            "125/125 [==============================] - 1s 4ms/step - loss: 0.7848 - accuracy: 0.7064 - val_loss: 0.7848 - val_accuracy: 0.7140\n",
            "Epoch 9/15\n",
            "125/125 [==============================] - 1s 5ms/step - loss: 0.7843 - accuracy: 0.7064 - val_loss: 0.7845 - val_accuracy: 0.7140\n",
            "Epoch 10/15\n",
            "125/125 [==============================] - 1s 5ms/step - loss: 0.7840 - accuracy: 0.7064 - val_loss: 0.7839 - val_accuracy: 0.7140\n",
            "Epoch 11/15\n",
            "125/125 [==============================] - 1s 5ms/step - loss: 0.7840 - accuracy: 0.7064 - val_loss: 0.7835 - val_accuracy: 0.7140\n",
            "Epoch 12/15\n",
            "125/125 [==============================] - 1s 4ms/step - loss: 0.7836 - accuracy: 0.7064 - val_loss: 0.7833 - val_accuracy: 0.7140\n",
            "Epoch 13/15\n",
            "125/125 [==============================] - 1s 4ms/step - loss: 0.7833 - accuracy: 0.7064 - val_loss: 0.7826 - val_accuracy: 0.7140\n",
            "Epoch 14/15\n",
            "125/125 [==============================] - 1s 4ms/step - loss: 0.7836 - accuracy: 0.7064 - val_loss: 0.7830 - val_accuracy: 0.7140\n",
            "Epoch 15/15\n",
            "125/125 [==============================] - 1s 4ms/step - loss: 0.7833 - accuracy: 0.7064 - val_loss: 0.7821 - val_accuracy: 0.7140\n"
          ]
        }
      ],
      "source": [
        "checkpoint = ModelCheckpoint('best_model.h5', monitor='val_accuracy', save_best_only=True)\n",
        "\n",
        "history = model.fit(X_train, y_train,\n",
        "                    validation_data=(X_test, y_test),\n",
        "                    epochs=15,\n",
        "                    batch_size=64,\n",
        "                    callbacks=[early_stop, checkpoint],\n",
        "                    verbose=1)"
      ]
    },
    {
      "cell_type": "code",
      "execution_count": null,
      "metadata": {
        "id": "n2fTg2GwjU0u"
      },
      "outputs": [],
      "source": [
        "model = Sequential([\n",
        "    Embedding(input_dim=vocab_size,\n",
        "              output_dim=embedding_dim,\n",
        "              weights=[embedding_matrix],\n",
        "              input_length=100,\n",
        "              trainable=False),\n",
        "    Bidirectional(LSTM(128, return_sequences=True)),        # gives output for every word, not just the final one\n",
        "    Dropout(0.2),\n",
        "    GRU(64),                                               # Focuses on key information in the sentence\n",
        "    Dense(64, activation='relu'),\n",
        "    Dropout(0.3),\n",
        "    Dense(3, activation='softmax')\n",
        "])\n",
        "\n",
        "model.compile(\n",
        "    loss='sparse_categorical_crossentropy',\n",
        "    optimizer='adam',\n",
        "    metrics=['accuracy']\n",
        ")"
      ]
    },
    {
      "cell_type": "code",
      "execution_count": null,
      "metadata": {
        "colab": {
          "base_uri": "https://localhost:8080/"
        },
        "id": "M3OM1RqCjVLt",
        "outputId": "cddd9226-ee66-4972-c49e-4cfaac46c092"
      },
      "outputs": [
        {
          "output_type": "stream",
          "name": "stdout",
          "text": [
            "Epoch 1/15\n",
            "125/125 [==============================] - 97s 725ms/step - loss: 0.8289 - accuracy: 0.7023 - val_loss: 0.7870 - val_accuracy: 0.7140\n",
            "Epoch 2/15\n",
            "125/125 [==============================] - 89s 706ms/step - loss: 0.8077 - accuracy: 0.7064 - val_loss: 0.7882 - val_accuracy: 0.7140\n",
            "Epoch 3/15\n",
            "125/125 [==============================] - 88s 703ms/step - loss: 0.8068 - accuracy: 0.7064 - val_loss: 0.7876 - val_accuracy: 0.7140\n",
            "Epoch 4/15\n",
            "125/125 [==============================] - 89s 710ms/step - loss: 0.8078 - accuracy: 0.7064 - val_loss: 0.7867 - val_accuracy: 0.7140\n",
            "Epoch 5/15\n",
            "125/125 [==============================] - 92s 738ms/step - loss: 0.8055 - accuracy: 0.7064 - val_loss: 0.7872 - val_accuracy: 0.7140\n",
            "Epoch 6/15\n",
            "125/125 [==============================] - 91s 732ms/step - loss: 0.8056 - accuracy: 0.7064 - val_loss: 0.7866 - val_accuracy: 0.7140\n",
            "Epoch 7/15\n",
            "125/125 [==============================] - 88s 705ms/step - loss: 0.8044 - accuracy: 0.7064 - val_loss: 0.7866 - val_accuracy: 0.7140\n",
            "Epoch 8/15\n",
            "125/125 [==============================] - 88s 701ms/step - loss: 0.8049 - accuracy: 0.7064 - val_loss: 0.7874 - val_accuracy: 0.7140\n",
            "Epoch 9/15\n",
            "125/125 [==============================] - 89s 717ms/step - loss: 0.8034 - accuracy: 0.7064 - val_loss: 0.7874 - val_accuracy: 0.7140\n",
            "Epoch 10/15\n",
            "125/125 [==============================] - 87s 696ms/step - loss: 0.8022 - accuracy: 0.7064 - val_loss: 0.7867 - val_accuracy: 0.7140\n"
          ]
        }
      ],
      "source": [
        "history = model.fit(X_train, y_train,\n",
        "                    validation_data=(X_test, y_test),\n",
        "                    epochs=15,\n",
        "                    batch_size=64,\n",
        "                    callbacks=[early_stop, checkpoint],\n",
        "                    verbose=1)"
      ]
    },
    {
      "cell_type": "code",
      "execution_count": null,
      "metadata": {
        "id": "OlaILPUBjVOz"
      },
      "outputs": [],
      "source": [
        "embedding_dim = embedding_matrix.shape[1]\n",
        "model = Sequential([\n",
        "    Embedding(input_dim=vocab_size,\n",
        "              output_dim=embedding_dim,\n",
        "              weights=[embedding_matrix],\n",
        "              input_length=100,\n",
        "              trainable=True),    # fine-tune the meanings\n",
        "    GlobalAveragePooling1D(),     # averages all the word vectors\n",
        "    Dense(64, activation='relu'),\n",
        "    Dense(3, activation='softmax')\n",
        "])\n",
        "\n",
        "model.compile(\n",
        "    loss='sparse_categorical_crossentropy',\n",
        "    optimizer='adam',\n",
        "    metrics=['accuracy']\n",
        ")"
      ]
    },
    {
      "cell_type": "code",
      "execution_count": null,
      "metadata": {
        "colab": {
          "base_uri": "https://localhost:8080/"
        },
        "id": "vdict0_WjVRx",
        "outputId": "a078121b-280c-4ab1-faba-9cbf40daf53d"
      },
      "outputs": [
        {
          "output_type": "stream",
          "name": "stdout",
          "text": [
            "Epoch 1/15\n",
            "125/125 [==============================] - 4s 26ms/step - loss: 0.8236 - accuracy: 0.7064 - val_loss: 0.7760 - val_accuracy: 0.7140\n",
            "Epoch 2/15\n",
            "125/125 [==============================] - 3s 25ms/step - loss: 0.7678 - accuracy: 0.7064 - val_loss: 0.7495 - val_accuracy: 0.7140\n",
            "Epoch 3/15\n",
            "125/125 [==============================] - 4s 33ms/step - loss: 0.6916 - accuracy: 0.7084 - val_loss: 0.6387 - val_accuracy: 0.7170\n",
            "Epoch 4/15\n",
            "125/125 [==============================] - 3s 24ms/step - loss: 0.5045 - accuracy: 0.8005 - val_loss: 0.5086 - val_accuracy: 0.7785\n",
            "Epoch 5/15\n",
            "125/125 [==============================] - 3s 24ms/step - loss: 0.3725 - accuracy: 0.8686 - val_loss: 0.4160 - val_accuracy: 0.8525\n",
            "Epoch 6/15\n",
            "125/125 [==============================] - 3s 25ms/step - loss: 0.3025 - accuracy: 0.8950 - val_loss: 0.3850 - val_accuracy: 0.8600\n",
            "Epoch 7/15\n",
            "125/125 [==============================] - 5s 38ms/step - loss: 0.2566 - accuracy: 0.9165 - val_loss: 0.3707 - val_accuracy: 0.8665\n",
            "Epoch 8/15\n",
            "125/125 [==============================] - 3s 24ms/step - loss: 0.2255 - accuracy: 0.9312 - val_loss: 0.3676 - val_accuracy: 0.8745\n",
            "Epoch 9/15\n",
            "125/125 [==============================] - 3s 25ms/step - loss: 0.2018 - accuracy: 0.9404 - val_loss: 0.3631 - val_accuracy: 0.8785\n",
            "Epoch 10/15\n",
            "125/125 [==============================] - 3s 23ms/step - loss: 0.1790 - accuracy: 0.9517 - val_loss: 0.3641 - val_accuracy: 0.8790\n",
            "Epoch 11/15\n",
            "125/125 [==============================] - 4s 31ms/step - loss: 0.1641 - accuracy: 0.9589 - val_loss: 0.3709 - val_accuracy: 0.8790\n",
            "Epoch 12/15\n",
            "125/125 [==============================] - 3s 26ms/step - loss: 0.1450 - accuracy: 0.9645 - val_loss: 0.3780 - val_accuracy: 0.8840\n"
          ]
        }
      ],
      "source": [
        "# Callbacks\n",
        "early_stop = EarlyStopping(monitor='val_loss', patience=3, restore_best_weights=True)\n",
        "checkpoint = ModelCheckpoint('best_model.h5', monitor='val_accuracy', save_best_only=True)\n",
        "\n",
        "\n",
        "history = model.fit(\n",
        "    X_train, y_train,\n",
        "    validation_data=(X_test, y_test),\n",
        "    epochs=15,\n",
        "    batch_size=64,\n",
        "    callbacks=[early_stop, checkpoint],\n",
        "    verbose=1\n",
        ")"
      ]
    },
    {
      "cell_type": "code",
      "source": [
        "plt.plot(history.history['accuracy'], label='Train Accuracy')\n",
        "plt.plot(history.history['val_accuracy'], label='Val Accuracy')\n",
        "plt.title(\"Accuracy over Epochs\")\n",
        "plt.xlabel(\"Epoch\")\n",
        "plt.ylabel(\"Accuracy\")\n",
        "plt.legend()\n",
        "plt.show()"
      ],
      "metadata": {
        "id": "0KdU4j08Xkgy",
        "colab": {
          "base_uri": "https://localhost:8080/",
          "height": 472
        },
        "outputId": "a457bd04-1209-4956-b94d-ebbe1e05daba"
      },
      "execution_count": null,
      "outputs": [
        {
          "output_type": "display_data",
          "data": {
            "text/plain": [
              "<Figure size 640x480 with 1 Axes>"
            ],
            "image/png": "[encoded data removed]"
          },
          "metadata": {}
        }
      ]
    },
    {
      "cell_type": "markdown",
      "source": [
        "**CNN (Convolutional Neural Network)**"
      ],
      "metadata": {
        "id": "y8h-EOY-DyQ2"
      }
    },
    {
      "cell_type": "code",
      "execution_count": null,
      "metadata": {
        "id": "_KSeQ3VXjVU1"
      },
      "outputs": [],
      "source": [
        "model_1 = Sequential([\n",
        "    Embedding(input_dim=vocab_size,\n",
        "              output_dim=embedding_dim,\n",
        "              weights=[embedding_matrix],\n",
        "              input_length=100,\n",
        "              trainable=True),\n",
        "    Conv1D(128, 5, activation='relu'),  # kernel size = 5\n",
        "    GlobalAveragePooling1D(),           # Averages all patterns into 1 vector\n",
        "    Dense(64, activation='relu'),\n",
        "    Dense(3, activation='softmax')\n",
        "])\n",
        "model_1.compile(\n",
        "    loss='sparse_categorical_crossentropy',\n",
        "    optimizer='adam',\n",
        "    metrics=['accuracy']\n",
        ")"
      ]
    },
    {
      "cell_type": "code",
      "execution_count": null,
      "metadata": {
        "id": "03muAT5uJd65",
        "colab": {
          "base_uri": "https://localhost:8080/"
        },
        "outputId": "a3daa9c5-8123-4aa4-dc4a-63b0b10dc6b9"
      },
      "outputs": [
        {
          "output_type": "stream",
          "name": "stdout",
          "text": [
            "Epoch 1/15\n",
            "125/125 [==============================] - 16s 122ms/step - loss: 0.8032 - accuracy: 0.7011 - val_loss: 0.7703 - val_accuracy: 0.7140\n",
            "Epoch 2/15\n",
            "125/125 [==============================] - 16s 125ms/step - loss: 0.7017 - accuracy: 0.7119 - val_loss: 0.5806 - val_accuracy: 0.7605\n",
            "Epoch 3/15\n",
            "125/125 [==============================] - 16s 129ms/step - loss: 0.4366 - accuracy: 0.8269 - val_loss: 0.4395 - val_accuracy: 0.8245\n",
            "Epoch 4/15\n",
            "125/125 [==============================] - 16s 126ms/step - loss: 0.3081 - accuracy: 0.8876 - val_loss: 0.4036 - val_accuracy: 0.8560\n",
            "Epoch 5/15\n",
            "125/125 [==============================] - 16s 124ms/step - loss: 0.2404 - accuracy: 0.9265 - val_loss: 0.4069 - val_accuracy: 0.8660\n",
            "Epoch 6/15\n",
            "125/125 [==============================] - 16s 126ms/step - loss: 0.1949 - accuracy: 0.9435 - val_loss: 0.3679 - val_accuracy: 0.8815\n",
            "Epoch 7/15\n",
            "125/125 [==============================] - 15s 121ms/step - loss: 0.1549 - accuracy: 0.9561 - val_loss: 0.3959 - val_accuracy: 0.8775\n",
            "Epoch 8/15\n",
            "125/125 [==============================] - 16s 124ms/step - loss: 0.1319 - accuracy: 0.9620 - val_loss: 0.3989 - val_accuracy: 0.8850\n",
            "Epoch 9/15\n",
            "125/125 [==============================] - 15s 120ms/step - loss: 0.1104 - accuracy: 0.9721 - val_loss: 0.4190 - val_accuracy: 0.8780\n"
          ]
        }
      ],
      "source": [
        "# Callbacks\n",
        "early_stop = EarlyStopping(monitor='val_loss', patience=3, restore_best_weights=True)\n",
        "checkpoint = ModelCheckpoint('best_cnn_model.h5', monitor='val_accuracy', save_best_only=True)\n",
        "\n",
        "\n",
        "history = model_1.fit(\n",
        "    X_train, y_train,\n",
        "    validation_data=(X_test, y_test),\n",
        "    epochs=15,\n",
        "    batch_size=64,\n",
        "    callbacks=[early_stop, checkpoint],\n",
        "    verbose=1\n",
        ")"
      ]
    },
    {
      "cell_type": "code",
      "source": [
        "plt.plot(history.history['accuracy'], label='Train Accuracy')\n",
        "plt.plot(history.history['val_accuracy'], label='Val Accuracy')\n",
        "plt.title(\"Accuracy over Epochs\")\n",
        "plt.xlabel(\"Epoch\")\n",
        "plt.ylabel(\"Accuracy\")\n",
        "plt.legend()\n",
        "plt.show()"
      ],
      "metadata": {
        "colab": {
          "base_uri": "https://localhost:8080/",
          "height": 472
        },
        "id": "BVZbCqtfoDqT",
        "outputId": "150cb2ec-ee6c-43d0-88df-f7b69fdadb51"
      },
      "execution_count": null,
      "outputs": [
        {
          "output_type": "display_data",
          "data": {
            "text/plain": [
              "<Figure size 640x480 with 1 Axes>"
            ],
            "image/png": "[encoded data removed]"
          },
          "metadata": {}
        }
      ]
    },
    {
      "cell_type": "markdown",
      "metadata": {
        "id": "9nSJh8RKJevN"
      },
      "source": [
        "**Evaluate Final Model on Test Set**"
      ]
    },
    {
      "cell_type": "code",
      "execution_count": null,
      "metadata": {
        "colab": {
          "base_uri": "https://localhost:8080/"
        },
        "id": "Ut8jKecDjVbL",
        "outputId": "ee583e01-7053-487a-b7b6-b2776a25b4cf"
      },
      "outputs": [
        {
          "output_type": "stream",
          "name": "stdout",
          "text": [
            "63/63 [==============================] - 0s 3ms/step - loss: 0.3631 - accuracy: 0.8785\n",
            "Final Test Accuracy: 0.8785\n"
          ]
        }
      ],
      "source": [
        "loss, accuracy = model.evaluate(X_test, y_test)\n",
        "print(f\"Final Test Accuracy: {accuracy:.4f}\")"
      ]
    },
    {
      "cell_type": "code",
      "execution_count": null,
      "metadata": {
        "id": "4HwfAo0ujVky",
        "colab": {
          "base_uri": "https://localhost:8080/"
        },
        "outputId": "cbf71148-0754-4a36-9d58-4cfd531ab8ac"
      },
      "outputs": [
        {
          "output_type": "stream",
          "name": "stdout",
          "text": [
            "63/63 [==============================] - 0s 4ms/step\n",
            "Accuracy: 0.8785\n",
            "Confusion Matrix:\n",
            "[[ 305   23   34]\n",
            " [  56   96   58]\n",
            " [  46   26 1356]]\n",
            "Classification Report:\n",
            "\n",
            "              precision    recall  f1-score   support\n",
            "\n",
            "    Negative       0.75      0.84      0.79       362\n",
            "     Neutral       0.66      0.46      0.54       210\n",
            "    Positive       0.94      0.95      0.94      1428\n",
            "\n",
            "    accuracy                           0.88      2000\n",
            "   macro avg       0.78      0.75      0.76      2000\n",
            "weighted avg       0.87      0.88      0.87      2000\n",
            "\n"
          ]
        }
      ],
      "source": [
        "# Predict class probabilities\n",
        "y_pred_probs = model.predict(X_test)\n",
        "\n",
        "# Get predicted class labels\n",
        "y_pred = np.argmax(y_pred_probs, axis=1)\n",
        "\n",
        "acc = accuracy_score(y_test, y_pred)\n",
        "print(f\"Accuracy: {acc:.4f}\")\n",
        "\n",
        "# Print confusion matrix\n",
        "cm = confusion_matrix(y_test, y_pred)\n",
        "print(\"Confusion Matrix:\")\n",
        "print(cm)\n",
        "\n",
        "print(\"Classification Report:\\n\")\n",
        "print(classification_report(y_test, y_pred, target_names=['Negative', 'Neutral', 'Positive']))"
      ]
    },
    {
      "cell_type": "code",
      "source": [
        "loss, accuracy = model_1.evaluate(X_test, y_test)\n",
        "print(f\"Final Test Accuracy: {accuracy:.4f}\")"
      ],
      "metadata": {
        "colab": {
          "base_uri": "https://localhost:8080/"
        },
        "id": "ZzFW1pIOTzFV",
        "outputId": "1c2d3dcb-7ceb-439d-9dc7-095ddaa5606b"
      },
      "execution_count": null,
      "outputs": [
        {
          "output_type": "stream",
          "name": "stdout",
          "text": [
            "63/63 [==============================] - 1s 20ms/step - loss: 0.3679 - accuracy: 0.8815\n",
            "Final Test Accuracy: 0.8815\n"
          ]
        }
      ]
    },
    {
      "cell_type": "code",
      "source": [
        "# Predict class probabilities\n",
        "y_pred_probs_1 = model_1.predict(X_test)\n",
        "\n",
        "# Get predicted class labels\n",
        "y_pred_1 = np.argmax(y_pred_probs_1, axis=1)\n",
        "\n",
        "accuracy = accuracy_score(y_test, y_pred_1)\n",
        "print(f\"Accuracy: {accuracy:.4f}\")\n",
        "\n",
        "# Print confusion matrix\n",
        "conmat = confusion_matrix(y_test, y_pred_1)\n",
        "print(\"Confusion Matrix:\")\n",
        "print(conmat)\n",
        "\n",
        "print(\"Classification Report:\\n\")\n",
        "print(classification_report(y_test, y_pred_1, target_names=['Negative', 'Neutral', 'Positive']))"
      ],
      "metadata": {
        "colab": {
          "base_uri": "https://localhost:8080/"
        },
        "id": "O7EMFUppVUth",
        "outputId": "bd3532d0-dea5-4ff5-d21a-962c409acb2a"
      },
      "execution_count": null,
      "outputs": [
        {
          "output_type": "stream",
          "name": "stdout",
          "text": [
            "63/63 [==============================] - 1s 12ms/step\n",
            "Accuracy: 0.8815\n",
            "Confusion Matrix:\n",
            "[[ 295   12   55]\n",
            " [  34  122   54]\n",
            " [  61   21 1346]]\n",
            "Classification Report:\n",
            "\n",
            "              precision    recall  f1-score   support\n",
            "\n",
            "    Negative       0.76      0.81      0.78       362\n",
            "     Neutral       0.79      0.58      0.67       210\n",
            "    Positive       0.93      0.94      0.93      1428\n",
            "\n",
            "    accuracy                           0.88      2000\n",
            "   macro avg       0.82      0.78      0.80      2000\n",
            "weighted avg       0.88      0.88      0.88      2000\n",
            "\n"
          ]
        }
      ]
    },
    {
      "cell_type": "markdown",
      "metadata": {
        "id": "ORrOqbWbmJTX"
      },
      "source": [
        "**Save and Load the Model**"
      ]
    },
    {
      "cell_type": "code",
      "execution_count": null,
      "metadata": {
        "id": "Ar_lwxQAjVYK",
        "colab": {
          "base_uri": "https://localhost:8080/",
          "height": 17
        },
        "outputId": "eb00e096-5961-414e-a0d7-60ef20b106b7"
      },
      "outputs": [
        {
          "output_type": "display_data",
          "data": {
            "text/plain": [
              "<IPython.core.display.Javascript object>"
            ],
            "application/javascript": [
              "\n",
              "    async function download(id, filename, size) {\n",
              "      if (!google.colab.kernel.accessAllowed) {\n",
              "        return;\n",
              "      }\n",
              "      const div = document.createElement('div');\n",
              "      const label = document.createElement('label');\n",
              "      label.textContent = `Downloading \"${filename}\": `;\n",
              "      div.appendChild(label);\n",
              "      const progress = document.createElement('progress');\n",
              "      progress.max = size;\n",
              "      div.appendChild(progress);\n",
              "      document.body.appendChild(div);\n",
              "\n",
              "      const buffers = [];\n",
              "      let downloaded = 0;\n",
              "\n",
              "      const channel = await google.colab.kernel.comms.open(id);\n",
              "      // Send a message to notify the kernel that we're ready.\n",
              "      channel.send({})\n",
              "\n",
              "      for await (const message of channel.messages) {\n",
              "        // Send a message to notify the kernel that we're ready.\n",
              "        channel.send({})\n",
              "        if (message.buffers) {\n",
              "          for (const buffer of message.buffers) {\n",
              "            buffers.push(buffer);\n",
              "            downloaded += buffer.byteLength;\n",
              "            progress.value = downloaded;\n",
              "          }\n",
              "        }\n",
              "      }\n",
              "      const blob = new Blob(buffers, {type: 'application/binary'});\n",
              "      const a = document.createElement('a');\n",
              "      a.href = window.URL.createObjectURL(blob);\n",
              "      a.download = filename;\n",
              "      div.appendChild(a);\n",
              "      a.click();\n",
              "      div.remove();\n",
              "    }\n",
              "  "
            ]
          },
          "metadata": {}
        },
        {
          "output_type": "display_data",
          "data": {
            "text/plain": [
              "<IPython.core.display.Javascript object>"
            ],
            "application/javascript": [
              "download(\"download_aed17603-c463-4201-98a9-5c36965a9e0c\", \"best_model.h5\", 15492728)"
            ]
          },
          "metadata": {}
        }
      ],
      "source": [
        "# Save the model\n",
        "model.save(\"best_model.h5\") # HDF5 (Hierarchical Data Format version 5)\n",
        "\n",
        "# Download the model to your local machine\n",
        "from google.colab import files\n",
        "files.download(\"best_model.h5\")"
      ]
    },
    {
      "cell_type": "code",
      "source": [
        "import pickle\n",
        "\n",
        "# Save tokenizer to a file\n",
        "with open('tokenizer.pkl', 'wb') as f:\n",
        "    pickle.dump(tokenizer, f)\n",
        "\n",
        "# Download the model to your local machine\n",
        "files.download('tokenizer.pkl')"
      ],
      "metadata": {
        "colab": {
          "base_uri": "https://localhost:8080/",
          "height": 17
        },
        "id": "9EWKTf_ZCL7j",
        "outputId": "12d09448-a43c-4743-d59c-92560fa99f66"
      },
      "execution_count": null,
      "outputs": [
        {
          "output_type": "display_data",
          "data": {
            "text/plain": [
              "<IPython.core.display.Javascript object>"
            ],
            "application/javascript": [
              "\n",
              "    async function download(id, filename, size) {\n",
              "      if (!google.colab.kernel.accessAllowed) {\n",
              "        return;\n",
              "      }\n",
              "      const div = document.createElement('div');\n",
              "      const label = document.createElement('label');\n",
              "      label.textContent = `Downloading \"${filename}\": `;\n",
              "      div.appendChild(label);\n",
              "      const progress = document.createElement('progress');\n",
              "      progress.max = size;\n",
              "      div.appendChild(progress);\n",
              "      document.body.appendChild(div);\n",
              "\n",
              "      const buffers = [];\n",
              "      let downloaded = 0;\n",
              "\n",
              "      const channel = await google.colab.kernel.comms.open(id);\n",
              "      // Send a message to notify the kernel that we're ready.\n",
              "      channel.send({})\n",
              "\n",
              "      for await (const message of channel.messages) {\n",
              "        // Send a message to notify the kernel that we're ready.\n",
              "        channel.send({})\n",
              "        if (message.buffers) {\n",
              "          for (const buffer of message.buffers) {\n",
              "            buffers.push(buffer);\n",
              "            downloaded += buffer.byteLength;\n",
              "            progress.value = downloaded;\n",
              "          }\n",
              "        }\n",
              "      }\n",
              "      const blob = new Blob(buffers, {type: 'application/binary'});\n",
              "      const a = document.createElement('a');\n",
              "      a.href = window.URL.createObjectURL(blob);\n",
              "      a.download = filename;\n",
              "      div.appendChild(a);\n",
              "      a.click();\n",
              "      div.remove();\n",
              "    }\n",
              "  "
            ]
          },
          "metadata": {}
        },
        {
          "output_type": "display_data",
          "data": {
            "text/plain": [
              "<IPython.core.display.Javascript object>"
            ],
            "application/javascript": [
              "download(\"download_d1451cc7-137b-4000-9cc6-92bed089b757\", \"tokenizer.pkl\", 348508)"
            ]
          },
          "metadata": {}
        }
      ]
    },
    {
      "cell_type": "markdown",
      "source": [
        "**Reload and use it**"
      ],
      "metadata": {
        "id": "1lApij6BvrLo"
      }
    },
    {
      "cell_type": "code",
      "source": [
        "with open('tokenizer.pkl', 'rb') as f:\n",
        "    tokenizer = pickle.load(f)"
      ],
      "metadata": {
        "id": "vy1ETih8CVz2"
      },
      "execution_count": null,
      "outputs": []
    },
    {
      "cell_type": "code",
      "execution_count": null,
      "metadata": {
        "id": "EpBrzUcSjVe3"
      },
      "outputs": [],
      "source": [
        "from tensorflow.keras.models import load_model\n",
        "best_model = load_model(\"best_model.h5\")"
      ]
    },
    {
      "cell_type": "code",
      "execution_count": null,
      "metadata": {
        "id": "9pM5BIQ2jYBL"
      },
      "outputs": [],
      "source": [
        "stop_words = set(stopwords.words('english'))\n",
        "\n",
        "def clean_text(text):\n",
        "    text = str(text).lower()\n",
        "    text = contractions.fix(text)\n",
        "    text = re.sub(' +', ' ', text)\n",
        "    text = re.sub(r'\\[.*?\\]', '', text)\n",
        "    text = re.sub(r'https?://\\S+|www\\.\\S+', '', text)\n",
        "    text = re.sub(r'<.*?>+', '', text)\n",
        "    text = re.sub(r'\\n', '', text)\n",
        "    text = re.sub('[%s]' % re.escape(string.punctuation), '', text)\n",
        "    text = re.sub(r'[^a-z\\s]', '', text)\n",
        "    words = text.split()\n",
        "    words = [word for word in words if word not in stop_words]\n",
        "    return ' '.join(words)\n"
      ]
    },
    {
      "cell_type": "code",
      "source": [
        "def predict_sentiment(text):\n",
        "    cleaned = clean_text(text)\n",
        "    seq = tokenizer.texts_to_sequences([cleaned])\n",
        "    padded = pad_sequences(seq, maxlen=max_len, padding='post')\n",
        "    pred = model.predict(padded)\n",
        "    label = np.argmax(pred, axis=1)[0]\n",
        "    label_map = {0: 'Negative 😞', 1: 'Neutral 😐', 2: 'Positive 😊'}\n",
        "    return label_map[label]"
      ],
      "metadata": {
        "id": "7P8FfDHhDK0t"
      },
      "execution_count": null,
      "outputs": []
    },
    {
      "cell_type": "code",
      "source": [
        "def get_vader_sentiment(text):\n",
        "    score = analyzer.polarity_scores(text)\n",
        "    compound = score['compound']\n",
        "    if compound >= 0.05:\n",
        "        return 'Positive 😊'\n",
        "    elif compound <= -0.05:\n",
        "        return 'Negative 😞'\n",
        "    else:\n",
        "        return 'Neutral 😐'"
      ],
      "metadata": {
        "id": "z0IllSO-6Gva"
      },
      "execution_count": null,
      "outputs": []
    },
    {
      "cell_type": "code",
      "source": [
        "new_text = \"ChatGPT is helpful\"\n",
        "print(predict_sentiment(new_text))"
      ],
      "metadata": {
        "colab": {
          "base_uri": "https://localhost:8080/"
        },
        "id": "LvLbn8Nd6GnN",
        "outputId": "9721cc8e-1148-4921-9331-fafa18d91ed0"
      },
      "execution_count": null,
      "outputs": [
        {
          "output_type": "stream",
          "name": "stdout",
          "text": [
            "1/1 [==============================] - 0s 75ms/step\n",
            "Neutral 😐\n"
          ]
        }
      ]
    },
    {
      "cell_type": "code",
      "source": [
        "sample = \"ChatGPT is helpful\"\n",
        "\n",
        "print(\"Your Text:\", sample)\n",
        "print(\"Deep Learning Model Prediction:\", predict_sentiment(sample))\n",
        "print(\"VADER Sentiment:\", get_vader_sentiment(sample))"
      ],
      "metadata": {
        "colab": {
          "base_uri": "https://localhost:8080/"
        },
        "id": "n9g9ptZyD2HL",
        "outputId": "52fe3f79-e488-4016-dfe7-b62170831133"
      },
      "execution_count": null,
      "outputs": [
        {
          "output_type": "stream",
          "name": "stdout",
          "text": [
            "Your Text: ChatGPT is helpful\n",
            "1/1 [==============================] - 0s 26ms/step\n",
            "Deep Learning Model Prediction: Neutral 😐\n",
            "VADER Sentiment: Positive 😊\n"
          ]
        }
      ]
    },
    {
      "cell_type": "code",
      "source": [
        "sample = \"This is the best AI I've ever used!\"\n",
        "\n",
        "print(\"Your Text:\", sample)\n",
        "print(\"Deep Learning Model Prediction:\", predict_sentiment(sample))\n",
        "print(\"VADER Sentiment:\", get_vader_sentiment(sample))"
      ],
      "metadata": {
        "colab": {
          "base_uri": "https://localhost:8080/"
        },
        "id": "35eYQraLD7fK",
        "outputId": "05d4359e-8ed3-41a2-e32d-487690159e95"
      },
      "execution_count": null,
      "outputs": [
        {
          "output_type": "stream",
          "name": "stdout",
          "text": [
            "Your Text: This is the best AI I've ever used!\n",
            "1/1 [==============================] - 0s 40ms/step\n",
            "Deep Learning Model Prediction: Positive 😊\n",
            "VADER Sentiment: Positive 😊\n"
          ]
        }
      ]
    },
    {
      "cell_type": "code",
      "source": [
        "sample = \"ChatGPT is not helpful at all, gives wrong answers.\"\n",
        "\n",
        "print(\"Your Text:\", sample)\n",
        "print(\"Deep Learning Model Prediction:\", predict_sentiment(sample))\n",
        "print(\"VADER Sentiment:\", get_vader_sentiment(sample))\n"
      ],
      "metadata": {
        "colab": {
          "base_uri": "https://localhost:8080/"
        },
        "id": "uYJ3IPjZ6GyH",
        "outputId": "79b8822f-88c5-4cd2-f61b-e51367c1cf7a"
      },
      "execution_count": null,
      "outputs": [
        {
          "output_type": "stream",
          "name": "stdout",
          "text": [
            "Your Text: ChatGPT is not helpful at all, gives wrong answers.\n",
            "1/1 [==============================] - 0s 27ms/step\n",
            "Deep Learning Model Prediction: Negative 😞\n",
            "VADER Sentiment: Negative 😞\n"
          ]
        }
      ]
    },
    {
      "cell_type": "code",
      "source": [],
      "metadata": {
        "id": "e4wj-1WJ86Na"
      },
      "execution_count": null,
      "outputs": []
    },
    {
      "cell_type": "code",
      "source": [],
      "metadata": {
        "id": "m_TZ-K9f86Ql"
      },
      "execution_count": null,
      "outputs": []
    },
    {
      "cell_type": "code",
      "source": [],
      "metadata": {
        "id": "VpAf532WvxTn"
      },
      "execution_count": null,
      "outputs": []
    },
    {
      "cell_type": "code",
      "source": [],
      "metadata": {
        "id": "pK27k8q4w8G3"
      },
      "execution_count": null,
      "outputs": []
    },
    {
      "cell_type": "code",
      "source": [],
      "metadata": {
        "id": "z5YqSGW6w8KF"
      },
      "execution_count": null,
      "outputs": []
    },
    {
      "cell_type": "code",
      "source": [],
      "metadata": {
        "id": "Pca1v30hw8NE"
      },
      "execution_count": null,
      "outputs": []
    },
    {
      "cell_type": "code",
      "source": [],
      "metadata": {
        "id": "MlG_MWWdxGTu"
      },
      "execution_count": null,
      "outputs": []
    }
  ],
  "metadata": {
    "colab": {
      "provenance": [],
      "mount_file_id": "1Hl0CQ9QHZFd2sIsqWxZPRkeV-nd2JnjL",
      "authorship_tag": "ABX9TyMPQd6vF5kRa0lfT5dQr1PV",
      "include_colab_link": true
    },
    "kernelspec": {
      "display_name": "Python 3",
      "name": "python3"
    },
    "language_info": {
      "name": "python"
    }
  },
  "nbformat": 4,
  "nbformat_minor": 0
}